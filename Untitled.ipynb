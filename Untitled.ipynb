{
 "cells": [
  {
   "cell_type": "code",
   "execution_count": 5,
   "metadata": {},
   "outputs": [],
   "source": [
    "import pandas as pd\n",
    "import matplotlib.pyplot as plt\n",
    "%matplotlib inline"
   ]
  },
  {
   "cell_type": "code",
   "execution_count": 135,
   "metadata": {},
   "outputs": [],
   "source": [
    "df = pd.read_csv('eicu/eicu-collaborative-research-database-2.0/eicu-collaborative-research-database-2.0/vitalPeriodic.csv/vitalPeriodic.csv'\n",
    "                 , nrows=1000000)"
   ]
  },
  {
   "cell_type": "code",
   "execution_count": 136,
   "metadata": {},
   "outputs": [
    {
     "data": {
      "text/html": [
       "<div>\n",
       "<style scoped>\n",
       "    .dataframe tbody tr th:only-of-type {\n",
       "        vertical-align: middle;\n",
       "    }\n",
       "\n",
       "    .dataframe tbody tr th {\n",
       "        vertical-align: top;\n",
       "    }\n",
       "\n",
       "    .dataframe thead th {\n",
       "        text-align: right;\n",
       "    }\n",
       "</style>\n",
       "<table border=\"1\" class=\"dataframe\">\n",
       "  <thead>\n",
       "    <tr style=\"text-align: right;\">\n",
       "      <th></th>\n",
       "      <th>vitalperiodicid</th>\n",
       "      <th>patientunitstayid</th>\n",
       "      <th>observationoffset</th>\n",
       "      <th>temperature</th>\n",
       "      <th>sao2</th>\n",
       "      <th>heartrate</th>\n",
       "      <th>respiration</th>\n",
       "      <th>cvp</th>\n",
       "      <th>etco2</th>\n",
       "      <th>systemicsystolic</th>\n",
       "      <th>systemicdiastolic</th>\n",
       "      <th>systemicmean</th>\n",
       "      <th>pasystolic</th>\n",
       "      <th>padiastolic</th>\n",
       "      <th>pamean</th>\n",
       "      <th>st1</th>\n",
       "      <th>st2</th>\n",
       "      <th>st3</th>\n",
       "      <th>icp</th>\n",
       "    </tr>\n",
       "  </thead>\n",
       "  <tbody>\n",
       "    <tr>\n",
       "      <th>0</th>\n",
       "      <td>37376747</td>\n",
       "      <td>141168</td>\n",
       "      <td>2059</td>\n",
       "      <td>NaN</td>\n",
       "      <td>NaN</td>\n",
       "      <td>92.0</td>\n",
       "      <td>NaN</td>\n",
       "      <td>30.0</td>\n",
       "      <td>NaN</td>\n",
       "      <td>NaN</td>\n",
       "      <td>NaN</td>\n",
       "      <td>NaN</td>\n",
       "      <td>NaN</td>\n",
       "      <td>NaN</td>\n",
       "      <td>NaN</td>\n",
       "      <td>NaN</td>\n",
       "      <td>NaN</td>\n",
       "      <td>NaN</td>\n",
       "      <td>NaN</td>\n",
       "    </tr>\n",
       "    <tr>\n",
       "      <th>1</th>\n",
       "      <td>37404957</td>\n",
       "      <td>141168</td>\n",
       "      <td>1289</td>\n",
       "      <td>NaN</td>\n",
       "      <td>NaN</td>\n",
       "      <td>118.0</td>\n",
       "      <td>NaN</td>\n",
       "      <td>NaN</td>\n",
       "      <td>NaN</td>\n",
       "      <td>NaN</td>\n",
       "      <td>NaN</td>\n",
       "      <td>NaN</td>\n",
       "      <td>NaN</td>\n",
       "      <td>NaN</td>\n",
       "      <td>NaN</td>\n",
       "      <td>NaN</td>\n",
       "      <td>NaN</td>\n",
       "      <td>NaN</td>\n",
       "      <td>NaN</td>\n",
       "    </tr>\n",
       "    <tr>\n",
       "      <th>2</th>\n",
       "      <td>37385871</td>\n",
       "      <td>141168</td>\n",
       "      <td>1794</td>\n",
       "      <td>NaN</td>\n",
       "      <td>91.0</td>\n",
       "      <td>78.0</td>\n",
       "      <td>NaN</td>\n",
       "      <td>NaN</td>\n",
       "      <td>NaN</td>\n",
       "      <td>NaN</td>\n",
       "      <td>NaN</td>\n",
       "      <td>NaN</td>\n",
       "      <td>NaN</td>\n",
       "      <td>NaN</td>\n",
       "      <td>NaN</td>\n",
       "      <td>NaN</td>\n",
       "      <td>NaN</td>\n",
       "      <td>NaN</td>\n",
       "      <td>NaN</td>\n",
       "    </tr>\n",
       "    <tr>\n",
       "      <th>3</th>\n",
       "      <td>37401664</td>\n",
       "      <td>141168</td>\n",
       "      <td>1374</td>\n",
       "      <td>NaN</td>\n",
       "      <td>90.0</td>\n",
       "      <td>118.0</td>\n",
       "      <td>NaN</td>\n",
       "      <td>NaN</td>\n",
       "      <td>NaN</td>\n",
       "      <td>NaN</td>\n",
       "      <td>NaN</td>\n",
       "      <td>NaN</td>\n",
       "      <td>NaN</td>\n",
       "      <td>NaN</td>\n",
       "      <td>NaN</td>\n",
       "      <td>NaN</td>\n",
       "      <td>NaN</td>\n",
       "      <td>NaN</td>\n",
       "      <td>NaN</td>\n",
       "    </tr>\n",
       "    <tr>\n",
       "      <th>4</th>\n",
       "      <td>37377404</td>\n",
       "      <td>141168</td>\n",
       "      <td>2039</td>\n",
       "      <td>NaN</td>\n",
       "      <td>98.0</td>\n",
       "      <td>92.0</td>\n",
       "      <td>NaN</td>\n",
       "      <td>33.0</td>\n",
       "      <td>NaN</td>\n",
       "      <td>NaN</td>\n",
       "      <td>NaN</td>\n",
       "      <td>NaN</td>\n",
       "      <td>NaN</td>\n",
       "      <td>NaN</td>\n",
       "      <td>NaN</td>\n",
       "      <td>NaN</td>\n",
       "      <td>NaN</td>\n",
       "      <td>NaN</td>\n",
       "      <td>NaN</td>\n",
       "    </tr>\n",
       "  </tbody>\n",
       "</table>\n",
       "</div>"
      ],
      "text/plain": [
       "   vitalperiodicid  patientunitstayid  observationoffset  temperature  sao2  \\\n",
       "0         37376747             141168               2059          NaN   NaN   \n",
       "1         37404957             141168               1289          NaN   NaN   \n",
       "2         37385871             141168               1794          NaN  91.0   \n",
       "3         37401664             141168               1374          NaN  90.0   \n",
       "4         37377404             141168               2039          NaN  98.0   \n",
       "\n",
       "   heartrate  respiration   cvp  etco2  systemicsystolic  systemicdiastolic  \\\n",
       "0       92.0          NaN  30.0    NaN               NaN                NaN   \n",
       "1      118.0          NaN   NaN    NaN               NaN                NaN   \n",
       "2       78.0          NaN   NaN    NaN               NaN                NaN   \n",
       "3      118.0          NaN   NaN    NaN               NaN                NaN   \n",
       "4       92.0          NaN  33.0    NaN               NaN                NaN   \n",
       "\n",
       "   systemicmean  pasystolic  padiastolic  pamean  st1  st2  st3  icp  \n",
       "0           NaN         NaN          NaN     NaN  NaN  NaN  NaN  NaN  \n",
       "1           NaN         NaN          NaN     NaN  NaN  NaN  NaN  NaN  \n",
       "2           NaN         NaN          NaN     NaN  NaN  NaN  NaN  NaN  \n",
       "3           NaN         NaN          NaN     NaN  NaN  NaN  NaN  NaN  \n",
       "4           NaN         NaN          NaN     NaN  NaN  NaN  NaN  NaN  "
      ]
     },
     "execution_count": 136,
     "metadata": {},
     "output_type": "execute_result"
    }
   ],
   "source": [
    "df.head()"
   ]
  },
  {
   "cell_type": "code",
   "execution_count": 8,
   "metadata": {},
   "outputs": [
    {
     "data": {
      "text/html": [
       "<div>\n",
       "<style scoped>\n",
       "    .dataframe tbody tr th:only-of-type {\n",
       "        vertical-align: middle;\n",
       "    }\n",
       "\n",
       "    .dataframe tbody tr th {\n",
       "        vertical-align: top;\n",
       "    }\n",
       "\n",
       "    .dataframe thead th {\n",
       "        text-align: right;\n",
       "    }\n",
       "</style>\n",
       "<table border=\"1\" class=\"dataframe\">\n",
       "  <thead>\n",
       "    <tr style=\"text-align: right;\">\n",
       "      <th></th>\n",
       "      <th>vitalperiodicid</th>\n",
       "      <th>patientunitstayid</th>\n",
       "      <th>observationoffset</th>\n",
       "      <th>temperature</th>\n",
       "      <th>sao2</th>\n",
       "      <th>heartrate</th>\n",
       "      <th>respiration</th>\n",
       "      <th>cvp</th>\n",
       "      <th>etco2</th>\n",
       "      <th>systemicsystolic</th>\n",
       "      <th>systemicdiastolic</th>\n",
       "      <th>systemicmean</th>\n",
       "      <th>pasystolic</th>\n",
       "      <th>padiastolic</th>\n",
       "      <th>pamean</th>\n",
       "      <th>st1</th>\n",
       "      <th>st2</th>\n",
       "      <th>st3</th>\n",
       "      <th>icp</th>\n",
       "    </tr>\n",
       "  </thead>\n",
       "  <tbody>\n",
       "    <tr>\n",
       "      <th>999995</th>\n",
       "      <td>40670611</td>\n",
       "      <td>152661</td>\n",
       "      <td>24826</td>\n",
       "      <td>NaN</td>\n",
       "      <td>NaN</td>\n",
       "      <td>89.0</td>\n",
       "      <td>NaN</td>\n",
       "      <td>NaN</td>\n",
       "      <td>NaN</td>\n",
       "      <td>NaN</td>\n",
       "      <td>NaN</td>\n",
       "      <td>NaN</td>\n",
       "      <td>NaN</td>\n",
       "      <td>NaN</td>\n",
       "      <td>NaN</td>\n",
       "      <td>NaN</td>\n",
       "      <td>NaN</td>\n",
       "      <td>NaN</td>\n",
       "      <td>NaN</td>\n",
       "    </tr>\n",
       "    <tr>\n",
       "      <th>999996</th>\n",
       "      <td>41373576</td>\n",
       "      <td>152661</td>\n",
       "      <td>4246</td>\n",
       "      <td>NaN</td>\n",
       "      <td>98.0</td>\n",
       "      <td>77.0</td>\n",
       "      <td>18.0</td>\n",
       "      <td>14.0</td>\n",
       "      <td>NaN</td>\n",
       "      <td>183.0</td>\n",
       "      <td>80.0</td>\n",
       "      <td>110.0</td>\n",
       "      <td>NaN</td>\n",
       "      <td>NaN</td>\n",
       "      <td>NaN</td>\n",
       "      <td>NaN</td>\n",
       "      <td>NaN</td>\n",
       "      <td>NaN</td>\n",
       "      <td>NaN</td>\n",
       "    </tr>\n",
       "    <tr>\n",
       "      <th>999997</th>\n",
       "      <td>40873987</td>\n",
       "      <td>152661</td>\n",
       "      <td>18846</td>\n",
       "      <td>NaN</td>\n",
       "      <td>98.0</td>\n",
       "      <td>77.0</td>\n",
       "      <td>27.0</td>\n",
       "      <td>12.0</td>\n",
       "      <td>NaN</td>\n",
       "      <td>NaN</td>\n",
       "      <td>NaN</td>\n",
       "      <td>NaN</td>\n",
       "      <td>NaN</td>\n",
       "      <td>NaN</td>\n",
       "      <td>NaN</td>\n",
       "      <td>NaN</td>\n",
       "      <td>NaN</td>\n",
       "      <td>NaN</td>\n",
       "      <td>NaN</td>\n",
       "    </tr>\n",
       "    <tr>\n",
       "      <th>999998</th>\n",
       "      <td>41105688</td>\n",
       "      <td>152661</td>\n",
       "      <td>12081</td>\n",
       "      <td>NaN</td>\n",
       "      <td>96.0</td>\n",
       "      <td>107.0</td>\n",
       "      <td>17.0</td>\n",
       "      <td>NaN</td>\n",
       "      <td>NaN</td>\n",
       "      <td>NaN</td>\n",
       "      <td>NaN</td>\n",
       "      <td>NaN</td>\n",
       "      <td>NaN</td>\n",
       "      <td>NaN</td>\n",
       "      <td>NaN</td>\n",
       "      <td>NaN</td>\n",
       "      <td>NaN</td>\n",
       "      <td>NaN</td>\n",
       "      <td>NaN</td>\n",
       "    </tr>\n",
       "    <tr>\n",
       "      <th>999999</th>\n",
       "      <td>41278450</td>\n",
       "      <td>152661</td>\n",
       "      <td>7191</td>\n",
       "      <td>NaN</td>\n",
       "      <td>99.0</td>\n",
       "      <td>90.0</td>\n",
       "      <td>27.0</td>\n",
       "      <td>NaN</td>\n",
       "      <td>NaN</td>\n",
       "      <td>129.0</td>\n",
       "      <td>63.0</td>\n",
       "      <td>81.0</td>\n",
       "      <td>NaN</td>\n",
       "      <td>NaN</td>\n",
       "      <td>NaN</td>\n",
       "      <td>NaN</td>\n",
       "      <td>NaN</td>\n",
       "      <td>NaN</td>\n",
       "      <td>NaN</td>\n",
       "    </tr>\n",
       "  </tbody>\n",
       "</table>\n",
       "</div>"
      ],
      "text/plain": [
       "        vitalperiodicid  patientunitstayid  observationoffset  temperature  \\\n",
       "999995         40670611             152661              24826          NaN   \n",
       "999996         41373576             152661               4246          NaN   \n",
       "999997         40873987             152661              18846          NaN   \n",
       "999998         41105688             152661              12081          NaN   \n",
       "999999         41278450             152661               7191          NaN   \n",
       "\n",
       "        sao2  heartrate  respiration   cvp  etco2  systemicsystolic  \\\n",
       "999995   NaN       89.0          NaN   NaN    NaN               NaN   \n",
       "999996  98.0       77.0         18.0  14.0    NaN             183.0   \n",
       "999997  98.0       77.0         27.0  12.0    NaN               NaN   \n",
       "999998  96.0      107.0         17.0   NaN    NaN               NaN   \n",
       "999999  99.0       90.0         27.0   NaN    NaN             129.0   \n",
       "\n",
       "        systemicdiastolic  systemicmean  pasystolic  padiastolic  pamean  st1  \\\n",
       "999995                NaN           NaN         NaN          NaN     NaN  NaN   \n",
       "999996               80.0         110.0         NaN          NaN     NaN  NaN   \n",
       "999997                NaN           NaN         NaN          NaN     NaN  NaN   \n",
       "999998                NaN           NaN         NaN          NaN     NaN  NaN   \n",
       "999999               63.0          81.0         NaN          NaN     NaN  NaN   \n",
       "\n",
       "        st2  st3  icp  \n",
       "999995  NaN  NaN  NaN  \n",
       "999996  NaN  NaN  NaN  \n",
       "999997  NaN  NaN  NaN  \n",
       "999998  NaN  NaN  NaN  \n",
       "999999  NaN  NaN  NaN  "
      ]
     },
     "execution_count": 8,
     "metadata": {},
     "output_type": "execute_result"
    }
   ],
   "source": [
    "df.tail()"
   ]
  },
  {
   "cell_type": "code",
   "execution_count": 9,
   "metadata": {
    "scrolled": true
   },
   "outputs": [
    {
     "data": {
      "text/plain": [
       "vitalperiodicid        int64\n",
       "patientunitstayid      int64\n",
       "observationoffset      int64\n",
       "temperature          float64\n",
       "sao2                 float64\n",
       "heartrate            float64\n",
       "respiration          float64\n",
       "cvp                  float64\n",
       "etco2                float64\n",
       "systemicsystolic     float64\n",
       "systemicdiastolic    float64\n",
       "systemicmean         float64\n",
       "pasystolic           float64\n",
       "padiastolic          float64\n",
       "pamean               float64\n",
       "st1                  float64\n",
       "st2                  float64\n",
       "st3                  float64\n",
       "icp                  float64\n",
       "dtype: object"
      ]
     },
     "execution_count": 9,
     "metadata": {},
     "output_type": "execute_result"
    }
   ],
   "source": [
    "df.dtypes"
   ]
  },
  {
   "cell_type": "code",
   "execution_count": 10,
   "metadata": {},
   "outputs": [
    {
     "data": {
      "text/plain": [
       "1607"
      ]
     },
     "execution_count": 10,
     "metadata": {},
     "output_type": "execute_result"
    }
   ],
   "source": [
    "len(df['patientunitstayid'].value_counts())"
   ]
  },
  {
   "cell_type": "code",
   "execution_count": 11,
   "metadata": {},
   "outputs": [
    {
     "data": {
      "text/plain": [
       "1607"
      ]
     },
     "execution_count": 11,
     "metadata": {},
     "output_type": "execute_result"
    }
   ],
   "source": [
    "len(df['patientunitstayid'].unique())"
   ]
  },
  {
   "cell_type": "code",
   "execution_count": 12,
   "metadata": {
    "scrolled": true
   },
   "outputs": [
    {
     "data": {
      "text/plain": [
       "141168     419\n",
       "141178       1\n",
       "141179     394\n",
       "141194     960\n",
       "141196     272\n",
       "141197      14\n",
       "141203     373\n",
       "141208     127\n",
       "141227     332\n",
       "141229      31\n",
       "141233    3133\n",
       "141244     768\n",
       "141260     189\n",
       "141263      95\n",
       "141264       1\n",
       "141265    1174\n",
       "141266     298\n",
       "141276     326\n",
       "141284     414\n",
       "141288     325\n",
       "141289     232\n",
       "141296     564\n",
       "141297     365\n",
       "141304    1322\n",
       "141313       8\n",
       "141314     121\n",
       "141328     120\n",
       "141329     507\n",
       "141337     229\n",
       "141340     839\n",
       "          ... \n",
       "152452     552\n",
       "152485     104\n",
       "152487     135\n",
       "152514     265\n",
       "152515     460\n",
       "152518    6563\n",
       "152526      38\n",
       "152527     257\n",
       "152528     664\n",
       "152559     873\n",
       "152564       5\n",
       "152565     108\n",
       "152580     117\n",
       "152581     201\n",
       "152585    1267\n",
       "152586     143\n",
       "152589     246\n",
       "152593     132\n",
       "152602      12\n",
       "152603     422\n",
       "152604     483\n",
       "152605    1735\n",
       "152610     950\n",
       "152614     230\n",
       "152618     443\n",
       "152637     690\n",
       "152643      47\n",
       "152644     844\n",
       "152660    1320\n",
       "152661    1307\n",
       "Name: patientunitstayid, Length: 1607, dtype: int64"
      ]
     },
     "execution_count": 12,
     "metadata": {},
     "output_type": "execute_result"
    }
   ],
   "source": [
    "df['patientunitstayid'].value_counts().sort_index()"
   ]
  },
  {
   "cell_type": "code",
   "execution_count": 13,
   "metadata": {},
   "outputs": [
    {
     "data": {
      "text/html": [
       "<div>\n",
       "<style scoped>\n",
       "    .dataframe tbody tr th:only-of-type {\n",
       "        vertical-align: middle;\n",
       "    }\n",
       "\n",
       "    .dataframe tbody tr th {\n",
       "        vertical-align: top;\n",
       "    }\n",
       "\n",
       "    .dataframe thead th {\n",
       "        text-align: right;\n",
       "    }\n",
       "</style>\n",
       "<table border=\"1\" class=\"dataframe\">\n",
       "  <thead>\n",
       "    <tr style=\"text-align: right;\">\n",
       "      <th></th>\n",
       "      <th>vitalperiodicid</th>\n",
       "      <th>patientunitstayid</th>\n",
       "      <th>observationoffset</th>\n",
       "      <th>temperature</th>\n",
       "      <th>sao2</th>\n",
       "      <th>heartrate</th>\n",
       "      <th>respiration</th>\n",
       "      <th>cvp</th>\n",
       "      <th>etco2</th>\n",
       "      <th>systemicsystolic</th>\n",
       "      <th>systemicdiastolic</th>\n",
       "      <th>systemicmean</th>\n",
       "      <th>pasystolic</th>\n",
       "      <th>padiastolic</th>\n",
       "      <th>pamean</th>\n",
       "      <th>st1</th>\n",
       "      <th>st2</th>\n",
       "      <th>st3</th>\n",
       "      <th>icp</th>\n",
       "    </tr>\n",
       "  </thead>\n",
       "  <tbody>\n",
       "    <tr>\n",
       "      <th>999995</th>\n",
       "      <td>40670611</td>\n",
       "      <td>152661</td>\n",
       "      <td>24826</td>\n",
       "      <td>NaN</td>\n",
       "      <td>NaN</td>\n",
       "      <td>89.0</td>\n",
       "      <td>NaN</td>\n",
       "      <td>NaN</td>\n",
       "      <td>NaN</td>\n",
       "      <td>NaN</td>\n",
       "      <td>NaN</td>\n",
       "      <td>NaN</td>\n",
       "      <td>NaN</td>\n",
       "      <td>NaN</td>\n",
       "      <td>NaN</td>\n",
       "      <td>NaN</td>\n",
       "      <td>NaN</td>\n",
       "      <td>NaN</td>\n",
       "      <td>NaN</td>\n",
       "    </tr>\n",
       "    <tr>\n",
       "      <th>999996</th>\n",
       "      <td>41373576</td>\n",
       "      <td>152661</td>\n",
       "      <td>4246</td>\n",
       "      <td>NaN</td>\n",
       "      <td>98.0</td>\n",
       "      <td>77.0</td>\n",
       "      <td>18.0</td>\n",
       "      <td>14.0</td>\n",
       "      <td>NaN</td>\n",
       "      <td>183.0</td>\n",
       "      <td>80.0</td>\n",
       "      <td>110.0</td>\n",
       "      <td>NaN</td>\n",
       "      <td>NaN</td>\n",
       "      <td>NaN</td>\n",
       "      <td>NaN</td>\n",
       "      <td>NaN</td>\n",
       "      <td>NaN</td>\n",
       "      <td>NaN</td>\n",
       "    </tr>\n",
       "    <tr>\n",
       "      <th>999997</th>\n",
       "      <td>40873987</td>\n",
       "      <td>152661</td>\n",
       "      <td>18846</td>\n",
       "      <td>NaN</td>\n",
       "      <td>98.0</td>\n",
       "      <td>77.0</td>\n",
       "      <td>27.0</td>\n",
       "      <td>12.0</td>\n",
       "      <td>NaN</td>\n",
       "      <td>NaN</td>\n",
       "      <td>NaN</td>\n",
       "      <td>NaN</td>\n",
       "      <td>NaN</td>\n",
       "      <td>NaN</td>\n",
       "      <td>NaN</td>\n",
       "      <td>NaN</td>\n",
       "      <td>NaN</td>\n",
       "      <td>NaN</td>\n",
       "      <td>NaN</td>\n",
       "    </tr>\n",
       "    <tr>\n",
       "      <th>999998</th>\n",
       "      <td>41105688</td>\n",
       "      <td>152661</td>\n",
       "      <td>12081</td>\n",
       "      <td>NaN</td>\n",
       "      <td>96.0</td>\n",
       "      <td>107.0</td>\n",
       "      <td>17.0</td>\n",
       "      <td>NaN</td>\n",
       "      <td>NaN</td>\n",
       "      <td>NaN</td>\n",
       "      <td>NaN</td>\n",
       "      <td>NaN</td>\n",
       "      <td>NaN</td>\n",
       "      <td>NaN</td>\n",
       "      <td>NaN</td>\n",
       "      <td>NaN</td>\n",
       "      <td>NaN</td>\n",
       "      <td>NaN</td>\n",
       "      <td>NaN</td>\n",
       "    </tr>\n",
       "    <tr>\n",
       "      <th>999999</th>\n",
       "      <td>41278450</td>\n",
       "      <td>152661</td>\n",
       "      <td>7191</td>\n",
       "      <td>NaN</td>\n",
       "      <td>99.0</td>\n",
       "      <td>90.0</td>\n",
       "      <td>27.0</td>\n",
       "      <td>NaN</td>\n",
       "      <td>NaN</td>\n",
       "      <td>129.0</td>\n",
       "      <td>63.0</td>\n",
       "      <td>81.0</td>\n",
       "      <td>NaN</td>\n",
       "      <td>NaN</td>\n",
       "      <td>NaN</td>\n",
       "      <td>NaN</td>\n",
       "      <td>NaN</td>\n",
       "      <td>NaN</td>\n",
       "      <td>NaN</td>\n",
       "    </tr>\n",
       "  </tbody>\n",
       "</table>\n",
       "</div>"
      ],
      "text/plain": [
       "        vitalperiodicid  patientunitstayid  observationoffset  temperature  \\\n",
       "999995         40670611             152661              24826          NaN   \n",
       "999996         41373576             152661               4246          NaN   \n",
       "999997         40873987             152661              18846          NaN   \n",
       "999998         41105688             152661              12081          NaN   \n",
       "999999         41278450             152661               7191          NaN   \n",
       "\n",
       "        sao2  heartrate  respiration   cvp  etco2  systemicsystolic  \\\n",
       "999995   NaN       89.0          NaN   NaN    NaN               NaN   \n",
       "999996  98.0       77.0         18.0  14.0    NaN             183.0   \n",
       "999997  98.0       77.0         27.0  12.0    NaN               NaN   \n",
       "999998  96.0      107.0         17.0   NaN    NaN               NaN   \n",
       "999999  99.0       90.0         27.0   NaN    NaN             129.0   \n",
       "\n",
       "        systemicdiastolic  systemicmean  pasystolic  padiastolic  pamean  st1  \\\n",
       "999995                NaN           NaN         NaN          NaN     NaN  NaN   \n",
       "999996               80.0         110.0         NaN          NaN     NaN  NaN   \n",
       "999997                NaN           NaN         NaN          NaN     NaN  NaN   \n",
       "999998                NaN           NaN         NaN          NaN     NaN  NaN   \n",
       "999999               63.0          81.0         NaN          NaN     NaN  NaN   \n",
       "\n",
       "        st2  st3  icp  \n",
       "999995  NaN  NaN  NaN  \n",
       "999996  NaN  NaN  NaN  \n",
       "999997  NaN  NaN  NaN  \n",
       "999998  NaN  NaN  NaN  \n",
       "999999  NaN  NaN  NaN  "
      ]
     },
     "execution_count": 13,
     "metadata": {},
     "output_type": "execute_result"
    }
   ],
   "source": [
    "df.tail()"
   ]
  },
  {
   "cell_type": "code",
   "execution_count": 14,
   "metadata": {},
   "outputs": [],
   "source": [
    "df = df[df['patientunitstayid'] != 152661].copy()"
   ]
  },
  {
   "cell_type": "code",
   "execution_count": 15,
   "metadata": {},
   "outputs": [
    {
     "data": {
      "text/html": [
       "<div>\n",
       "<style scoped>\n",
       "    .dataframe tbody tr th:only-of-type {\n",
       "        vertical-align: middle;\n",
       "    }\n",
       "\n",
       "    .dataframe tbody tr th {\n",
       "        vertical-align: top;\n",
       "    }\n",
       "\n",
       "    .dataframe thead th {\n",
       "        text-align: right;\n",
       "    }\n",
       "</style>\n",
       "<table border=\"1\" class=\"dataframe\">\n",
       "  <thead>\n",
       "    <tr style=\"text-align: right;\">\n",
       "      <th></th>\n",
       "      <th>vitalperiodicid</th>\n",
       "      <th>patientunitstayid</th>\n",
       "      <th>observationoffset</th>\n",
       "      <th>temperature</th>\n",
       "      <th>sao2</th>\n",
       "      <th>heartrate</th>\n",
       "      <th>respiration</th>\n",
       "      <th>cvp</th>\n",
       "      <th>etco2</th>\n",
       "      <th>systemicsystolic</th>\n",
       "      <th>systemicdiastolic</th>\n",
       "      <th>systemicmean</th>\n",
       "      <th>pasystolic</th>\n",
       "      <th>padiastolic</th>\n",
       "      <th>pamean</th>\n",
       "      <th>st1</th>\n",
       "      <th>st2</th>\n",
       "      <th>st3</th>\n",
       "      <th>icp</th>\n",
       "    </tr>\n",
       "  </thead>\n",
       "  <tbody>\n",
       "    <tr>\n",
       "      <th>0</th>\n",
       "      <td>37376747</td>\n",
       "      <td>141168</td>\n",
       "      <td>2059</td>\n",
       "      <td>NaN</td>\n",
       "      <td>NaN</td>\n",
       "      <td>92.0</td>\n",
       "      <td>NaN</td>\n",
       "      <td>30.0</td>\n",
       "      <td>NaN</td>\n",
       "      <td>NaN</td>\n",
       "      <td>NaN</td>\n",
       "      <td>NaN</td>\n",
       "      <td>NaN</td>\n",
       "      <td>NaN</td>\n",
       "      <td>NaN</td>\n",
       "      <td>NaN</td>\n",
       "      <td>NaN</td>\n",
       "      <td>NaN</td>\n",
       "      <td>NaN</td>\n",
       "    </tr>\n",
       "    <tr>\n",
       "      <th>1</th>\n",
       "      <td>37404957</td>\n",
       "      <td>141168</td>\n",
       "      <td>1289</td>\n",
       "      <td>NaN</td>\n",
       "      <td>NaN</td>\n",
       "      <td>118.0</td>\n",
       "      <td>NaN</td>\n",
       "      <td>NaN</td>\n",
       "      <td>NaN</td>\n",
       "      <td>NaN</td>\n",
       "      <td>NaN</td>\n",
       "      <td>NaN</td>\n",
       "      <td>NaN</td>\n",
       "      <td>NaN</td>\n",
       "      <td>NaN</td>\n",
       "      <td>NaN</td>\n",
       "      <td>NaN</td>\n",
       "      <td>NaN</td>\n",
       "      <td>NaN</td>\n",
       "    </tr>\n",
       "    <tr>\n",
       "      <th>2</th>\n",
       "      <td>37385871</td>\n",
       "      <td>141168</td>\n",
       "      <td>1794</td>\n",
       "      <td>NaN</td>\n",
       "      <td>91.0</td>\n",
       "      <td>78.0</td>\n",
       "      <td>NaN</td>\n",
       "      <td>NaN</td>\n",
       "      <td>NaN</td>\n",
       "      <td>NaN</td>\n",
       "      <td>NaN</td>\n",
       "      <td>NaN</td>\n",
       "      <td>NaN</td>\n",
       "      <td>NaN</td>\n",
       "      <td>NaN</td>\n",
       "      <td>NaN</td>\n",
       "      <td>NaN</td>\n",
       "      <td>NaN</td>\n",
       "      <td>NaN</td>\n",
       "    </tr>\n",
       "    <tr>\n",
       "      <th>3</th>\n",
       "      <td>37401664</td>\n",
       "      <td>141168</td>\n",
       "      <td>1374</td>\n",
       "      <td>NaN</td>\n",
       "      <td>90.0</td>\n",
       "      <td>118.0</td>\n",
       "      <td>NaN</td>\n",
       "      <td>NaN</td>\n",
       "      <td>NaN</td>\n",
       "      <td>NaN</td>\n",
       "      <td>NaN</td>\n",
       "      <td>NaN</td>\n",
       "      <td>NaN</td>\n",
       "      <td>NaN</td>\n",
       "      <td>NaN</td>\n",
       "      <td>NaN</td>\n",
       "      <td>NaN</td>\n",
       "      <td>NaN</td>\n",
       "      <td>NaN</td>\n",
       "    </tr>\n",
       "    <tr>\n",
       "      <th>4</th>\n",
       "      <td>37377404</td>\n",
       "      <td>141168</td>\n",
       "      <td>2039</td>\n",
       "      <td>NaN</td>\n",
       "      <td>98.0</td>\n",
       "      <td>92.0</td>\n",
       "      <td>NaN</td>\n",
       "      <td>33.0</td>\n",
       "      <td>NaN</td>\n",
       "      <td>NaN</td>\n",
       "      <td>NaN</td>\n",
       "      <td>NaN</td>\n",
       "      <td>NaN</td>\n",
       "      <td>NaN</td>\n",
       "      <td>NaN</td>\n",
       "      <td>NaN</td>\n",
       "      <td>NaN</td>\n",
       "      <td>NaN</td>\n",
       "      <td>NaN</td>\n",
       "    </tr>\n",
       "  </tbody>\n",
       "</table>\n",
       "</div>"
      ],
      "text/plain": [
       "   vitalperiodicid  patientunitstayid  observationoffset  temperature  sao2  \\\n",
       "0         37376747             141168               2059          NaN   NaN   \n",
       "1         37404957             141168               1289          NaN   NaN   \n",
       "2         37385871             141168               1794          NaN  91.0   \n",
       "3         37401664             141168               1374          NaN  90.0   \n",
       "4         37377404             141168               2039          NaN  98.0   \n",
       "\n",
       "   heartrate  respiration   cvp  etco2  systemicsystolic  systemicdiastolic  \\\n",
       "0       92.0          NaN  30.0    NaN               NaN                NaN   \n",
       "1      118.0          NaN   NaN    NaN               NaN                NaN   \n",
       "2       78.0          NaN   NaN    NaN               NaN                NaN   \n",
       "3      118.0          NaN   NaN    NaN               NaN                NaN   \n",
       "4       92.0          NaN  33.0    NaN               NaN                NaN   \n",
       "\n",
       "   systemicmean  pasystolic  padiastolic  pamean  st1  st2  st3  icp  \n",
       "0           NaN         NaN          NaN     NaN  NaN  NaN  NaN  NaN  \n",
       "1           NaN         NaN          NaN     NaN  NaN  NaN  NaN  NaN  \n",
       "2           NaN         NaN          NaN     NaN  NaN  NaN  NaN  NaN  \n",
       "3           NaN         NaN          NaN     NaN  NaN  NaN  NaN  NaN  \n",
       "4           NaN         NaN          NaN     NaN  NaN  NaN  NaN  NaN  "
      ]
     },
     "execution_count": 15,
     "metadata": {},
     "output_type": "execute_result"
    }
   ],
   "source": [
    "df.head()"
   ]
  },
  {
   "cell_type": "code",
   "execution_count": 16,
   "metadata": {},
   "outputs": [
    {
     "data": {
      "text/plain": [
       "vitalperiodicid           0\n",
       "patientunitstayid         0\n",
       "observationoffset         0\n",
       "temperature          854719\n",
       "sao2                 135617\n",
       "heartrate              3230\n",
       "respiration          280734\n",
       "cvp                  857840\n",
       "etco2                987243\n",
       "systemicsystolic     743677\n",
       "systemicdiastolic    743675\n",
       "systemicmean         743187\n",
       "pasystolic           963131\n",
       "padiastolic          963152\n",
       "pamean               963117\n",
       "st1                  511582\n",
       "st2                  501800\n",
       "st3                  510263\n",
       "icp                  993076\n",
       "dtype: int64"
      ]
     },
     "execution_count": 16,
     "metadata": {},
     "output_type": "execute_result"
    }
   ],
   "source": [
    "df.isna().sum()"
   ]
  },
  {
   "cell_type": "code",
   "execution_count": 17,
   "metadata": {},
   "outputs": [
    {
     "data": {
      "text/plain": [
       "(998693, 19)"
      ]
     },
     "execution_count": 17,
     "metadata": {},
     "output_type": "execute_result"
    }
   ],
   "source": [
    "df.shape"
   ]
  },
  {
   "cell_type": "code",
   "execution_count": 18,
   "metadata": {},
   "outputs": [
    {
     "name": "stdout",
     "output_type": "stream",
     "text": [
      "vitalperiodicid :  998693\n",
      "patientunitstayid :  998693\n",
      "observationoffset :  998693\n",
      "temperature :  143974\n",
      "sao2 :  863076\n",
      "heartrate :  995463\n",
      "respiration :  717959\n",
      "cvp :  140853\n",
      "etco2 :  11450\n",
      "systemicsystolic :  255016\n",
      "systemicdiastolic :  255018\n",
      "systemicmean :  255506\n",
      "pasystolic :  35562\n",
      "padiastolic :  35541\n",
      "pamean :  35576\n",
      "st1 :  487111\n",
      "st2 :  496893\n",
      "st3 :  488430\n",
      "icp :  5617\n"
     ]
    }
   ],
   "source": [
    "for i in range(len(df.isna().sum())):\n",
    "    print(df.columns[i], ': ', (df.shape[0] - df.isna().sum()[i]))"
   ]
  },
  {
   "cell_type": "code",
   "execution_count": 19,
   "metadata": {},
   "outputs": [],
   "source": [
    "df2 = df[['vitalperiodicid', 'patientunitstayid', 'observationoffset', 'heartrate', 'respiration', 'sao2', 'temperature',\n",
    "          'systemicsystolic', 'systemicdiastolic']].copy()"
   ]
  },
  {
   "cell_type": "code",
   "execution_count": 20,
   "metadata": {},
   "outputs": [
    {
     "data": {
      "text/html": [
       "<div>\n",
       "<style scoped>\n",
       "    .dataframe tbody tr th:only-of-type {\n",
       "        vertical-align: middle;\n",
       "    }\n",
       "\n",
       "    .dataframe tbody tr th {\n",
       "        vertical-align: top;\n",
       "    }\n",
       "\n",
       "    .dataframe thead th {\n",
       "        text-align: right;\n",
       "    }\n",
       "</style>\n",
       "<table border=\"1\" class=\"dataframe\">\n",
       "  <thead>\n",
       "    <tr style=\"text-align: right;\">\n",
       "      <th></th>\n",
       "      <th>vitalperiodicid</th>\n",
       "      <th>patientunitstayid</th>\n",
       "      <th>observationoffset</th>\n",
       "      <th>heartrate</th>\n",
       "      <th>respiration</th>\n",
       "      <th>sao2</th>\n",
       "      <th>temperature</th>\n",
       "      <th>systemicsystolic</th>\n",
       "      <th>systemicdiastolic</th>\n",
       "    </tr>\n",
       "  </thead>\n",
       "  <tbody>\n",
       "    <tr>\n",
       "      <th>0</th>\n",
       "      <td>37376747</td>\n",
       "      <td>141168</td>\n",
       "      <td>2059</td>\n",
       "      <td>92.0</td>\n",
       "      <td>NaN</td>\n",
       "      <td>NaN</td>\n",
       "      <td>NaN</td>\n",
       "      <td>NaN</td>\n",
       "      <td>NaN</td>\n",
       "    </tr>\n",
       "    <tr>\n",
       "      <th>1</th>\n",
       "      <td>37404957</td>\n",
       "      <td>141168</td>\n",
       "      <td>1289</td>\n",
       "      <td>118.0</td>\n",
       "      <td>NaN</td>\n",
       "      <td>NaN</td>\n",
       "      <td>NaN</td>\n",
       "      <td>NaN</td>\n",
       "      <td>NaN</td>\n",
       "    </tr>\n",
       "    <tr>\n",
       "      <th>2</th>\n",
       "      <td>37385871</td>\n",
       "      <td>141168</td>\n",
       "      <td>1794</td>\n",
       "      <td>78.0</td>\n",
       "      <td>NaN</td>\n",
       "      <td>91.0</td>\n",
       "      <td>NaN</td>\n",
       "      <td>NaN</td>\n",
       "      <td>NaN</td>\n",
       "    </tr>\n",
       "    <tr>\n",
       "      <th>3</th>\n",
       "      <td>37401664</td>\n",
       "      <td>141168</td>\n",
       "      <td>1374</td>\n",
       "      <td>118.0</td>\n",
       "      <td>NaN</td>\n",
       "      <td>90.0</td>\n",
       "      <td>NaN</td>\n",
       "      <td>NaN</td>\n",
       "      <td>NaN</td>\n",
       "    </tr>\n",
       "    <tr>\n",
       "      <th>4</th>\n",
       "      <td>37377404</td>\n",
       "      <td>141168</td>\n",
       "      <td>2039</td>\n",
       "      <td>92.0</td>\n",
       "      <td>NaN</td>\n",
       "      <td>98.0</td>\n",
       "      <td>NaN</td>\n",
       "      <td>NaN</td>\n",
       "      <td>NaN</td>\n",
       "    </tr>\n",
       "  </tbody>\n",
       "</table>\n",
       "</div>"
      ],
      "text/plain": [
       "   vitalperiodicid  patientunitstayid  observationoffset  heartrate  \\\n",
       "0         37376747             141168               2059       92.0   \n",
       "1         37404957             141168               1289      118.0   \n",
       "2         37385871             141168               1794       78.0   \n",
       "3         37401664             141168               1374      118.0   \n",
       "4         37377404             141168               2039       92.0   \n",
       "\n",
       "   respiration  sao2  temperature  systemicsystolic  systemicdiastolic  \n",
       "0          NaN   NaN          NaN               NaN                NaN  \n",
       "1          NaN   NaN          NaN               NaN                NaN  \n",
       "2          NaN  91.0          NaN               NaN                NaN  \n",
       "3          NaN  90.0          NaN               NaN                NaN  \n",
       "4          NaN  98.0          NaN               NaN                NaN  "
      ]
     },
     "execution_count": 20,
     "metadata": {},
     "output_type": "execute_result"
    }
   ],
   "source": [
    "df2.head()"
   ]
  },
  {
   "cell_type": "code",
   "execution_count": 21,
   "metadata": {},
   "outputs": [
    {
     "data": {
      "text/plain": [
       "(998693, 9)"
      ]
     },
     "execution_count": 21,
     "metadata": {},
     "output_type": "execute_result"
    }
   ],
   "source": [
    "df2.shape"
   ]
  },
  {
   "cell_type": "code",
   "execution_count": 22,
   "metadata": {},
   "outputs": [
    {
     "data": {
      "text/plain": [
       "(49989, 9)"
      ]
     },
     "execution_count": 22,
     "metadata": {},
     "output_type": "execute_result"
    }
   ],
   "source": [
    "df2.dropna().shape"
   ]
  },
  {
   "cell_type": "code",
   "execution_count": 23,
   "metadata": {},
   "outputs": [],
   "source": [
    "import seaborn as sns"
   ]
  },
  {
   "cell_type": "code",
   "execution_count": 24,
   "metadata": {},
   "outputs": [
    {
     "data": {
      "text/plain": [
       "<matplotlib.axes._subplots.AxesSubplot at 0x18c41ffd320>"
      ]
     },
     "execution_count": 24,
     "metadata": {},
     "output_type": "execute_result"
    },
    {
     "data": {
      "image/png": "[encoded data removed]",
      "text/plain": [
       "<Figure size 1152x864 with 2 Axes>"
      ]
     },
     "metadata": {},
     "output_type": "display_data"
    }
   ],
   "source": [
    "plt.figure(figsize=(16, 12))\n",
    "sns.heatmap(df2.isna(), cmap='viridis')"
   ]
  },
  {
   "cell_type": "code",
   "execution_count": 25,
   "metadata": {},
   "outputs": [],
   "source": [
    "df3 = df2.copy().dropna()"
   ]
  },
  {
   "cell_type": "code",
   "execution_count": 26,
   "metadata": {},
   "outputs": [
    {
     "data": {
      "text/plain": [
       "(49989, 9)"
      ]
     },
     "execution_count": 26,
     "metadata": {},
     "output_type": "execute_result"
    }
   ],
   "source": [
    "df3.shape"
   ]
  },
  {
   "cell_type": "code",
   "execution_count": 27,
   "metadata": {},
   "outputs": [
    {
     "data": {
      "text/html": [
       "<div>\n",
       "<style scoped>\n",
       "    .dataframe tbody tr th:only-of-type {\n",
       "        vertical-align: middle;\n",
       "    }\n",
       "\n",
       "    .dataframe tbody tr th {\n",
       "        vertical-align: top;\n",
       "    }\n",
       "\n",
       "    .dataframe thead th {\n",
       "        text-align: right;\n",
       "    }\n",
       "</style>\n",
       "<table border=\"1\" class=\"dataframe\">\n",
       "  <thead>\n",
       "    <tr style=\"text-align: right;\">\n",
       "      <th></th>\n",
       "      <th>vitalperiodicid</th>\n",
       "      <th>patientunitstayid</th>\n",
       "      <th>observationoffset</th>\n",
       "      <th>heartrate</th>\n",
       "      <th>respiration</th>\n",
       "      <th>sao2</th>\n",
       "      <th>temperature</th>\n",
       "      <th>systemicsystolic</th>\n",
       "      <th>systemicdiastolic</th>\n",
       "    </tr>\n",
       "  </thead>\n",
       "  <tbody>\n",
       "    <tr>\n",
       "      <th>4056</th>\n",
       "      <td>30538137</td>\n",
       "      <td>141233</td>\n",
       "      <td>2936</td>\n",
       "      <td>100.0</td>\n",
       "      <td>24.0</td>\n",
       "      <td>95.0</td>\n",
       "      <td>36.6</td>\n",
       "      <td>106.0</td>\n",
       "      <td>62.0</td>\n",
       "    </tr>\n",
       "    <tr>\n",
       "      <th>4176</th>\n",
       "      <td>30537976</td>\n",
       "      <td>141233</td>\n",
       "      <td>2941</td>\n",
       "      <td>100.0</td>\n",
       "      <td>20.0</td>\n",
       "      <td>95.0</td>\n",
       "      <td>36.6</td>\n",
       "      <td>112.0</td>\n",
       "      <td>64.0</td>\n",
       "    </tr>\n",
       "    <tr>\n",
       "      <th>8586</th>\n",
       "      <td>29308410</td>\n",
       "      <td>141276</td>\n",
       "      <td>46</td>\n",
       "      <td>75.0</td>\n",
       "      <td>20.0</td>\n",
       "      <td>100.0</td>\n",
       "      <td>35.8</td>\n",
       "      <td>171.0</td>\n",
       "      <td>96.0</td>\n",
       "    </tr>\n",
       "    <tr>\n",
       "      <th>8634</th>\n",
       "      <td>29309085</td>\n",
       "      <td>141276</td>\n",
       "      <td>26</td>\n",
       "      <td>75.0</td>\n",
       "      <td>20.0</td>\n",
       "      <td>100.0</td>\n",
       "      <td>33.7</td>\n",
       "      <td>173.0</td>\n",
       "      <td>97.0</td>\n",
       "    </tr>\n",
       "    <tr>\n",
       "      <th>8748</th>\n",
       "      <td>29308242</td>\n",
       "      <td>141276</td>\n",
       "      <td>51</td>\n",
       "      <td>73.0</td>\n",
       "      <td>18.0</td>\n",
       "      <td>100.0</td>\n",
       "      <td>35.9</td>\n",
       "      <td>160.0</td>\n",
       "      <td>91.0</td>\n",
       "    </tr>\n",
       "  </tbody>\n",
       "</table>\n",
       "</div>"
      ],
      "text/plain": [
       "      vitalperiodicid  patientunitstayid  observationoffset  heartrate  \\\n",
       "4056         30538137             141233               2936      100.0   \n",
       "4176         30537976             141233               2941      100.0   \n",
       "8586         29308410             141276                 46       75.0   \n",
       "8634         29309085             141276                 26       75.0   \n",
       "8748         29308242             141276                 51       73.0   \n",
       "\n",
       "      respiration   sao2  temperature  systemicsystolic  systemicdiastolic  \n",
       "4056         24.0   95.0         36.6             106.0               62.0  \n",
       "4176         20.0   95.0         36.6             112.0               64.0  \n",
       "8586         20.0  100.0         35.8             171.0               96.0  \n",
       "8634         20.0  100.0         33.7             173.0               97.0  \n",
       "8748         18.0  100.0         35.9             160.0               91.0  "
      ]
     },
     "execution_count": 27,
     "metadata": {},
     "output_type": "execute_result"
    }
   ],
   "source": [
    "df3.head()"
   ]
  },
  {
   "cell_type": "code",
   "execution_count": 28,
   "metadata": {},
   "outputs": [],
   "source": [
    "df4 = df3[['vitalperiodicid', 'patientunitstayid', 'observationoffset', 'heartrate', 'respiration', 'temperature']].copy().reset_index(drop=True)"
   ]
  },
  {
   "cell_type": "code",
   "execution_count": 29,
   "metadata": {},
   "outputs": [
    {
     "data": {
      "text/html": [
       "<div>\n",
       "<style scoped>\n",
       "    .dataframe tbody tr th:only-of-type {\n",
       "        vertical-align: middle;\n",
       "    }\n",
       "\n",
       "    .dataframe tbody tr th {\n",
       "        vertical-align: top;\n",
       "    }\n",
       "\n",
       "    .dataframe thead th {\n",
       "        text-align: right;\n",
       "    }\n",
       "</style>\n",
       "<table border=\"1\" class=\"dataframe\">\n",
       "  <thead>\n",
       "    <tr style=\"text-align: right;\">\n",
       "      <th></th>\n",
       "      <th>vitalperiodicid</th>\n",
       "      <th>patientunitstayid</th>\n",
       "      <th>observationoffset</th>\n",
       "      <th>heartrate</th>\n",
       "      <th>respiration</th>\n",
       "      <th>temperature</th>\n",
       "    </tr>\n",
       "  </thead>\n",
       "  <tbody>\n",
       "    <tr>\n",
       "      <th>0</th>\n",
       "      <td>30538137</td>\n",
       "      <td>141233</td>\n",
       "      <td>2936</td>\n",
       "      <td>100.0</td>\n",
       "      <td>24.0</td>\n",
       "      <td>36.6</td>\n",
       "    </tr>\n",
       "    <tr>\n",
       "      <th>1</th>\n",
       "      <td>30537976</td>\n",
       "      <td>141233</td>\n",
       "      <td>2941</td>\n",
       "      <td>100.0</td>\n",
       "      <td>20.0</td>\n",
       "      <td>36.6</td>\n",
       "    </tr>\n",
       "    <tr>\n",
       "      <th>2</th>\n",
       "      <td>29308410</td>\n",
       "      <td>141276</td>\n",
       "      <td>46</td>\n",
       "      <td>75.0</td>\n",
       "      <td>20.0</td>\n",
       "      <td>35.8</td>\n",
       "    </tr>\n",
       "    <tr>\n",
       "      <th>3</th>\n",
       "      <td>29309085</td>\n",
       "      <td>141276</td>\n",
       "      <td>26</td>\n",
       "      <td>75.0</td>\n",
       "      <td>20.0</td>\n",
       "      <td>33.7</td>\n",
       "    </tr>\n",
       "    <tr>\n",
       "      <th>4</th>\n",
       "      <td>29308242</td>\n",
       "      <td>141276</td>\n",
       "      <td>51</td>\n",
       "      <td>73.0</td>\n",
       "      <td>18.0</td>\n",
       "      <td>35.9</td>\n",
       "    </tr>\n",
       "  </tbody>\n",
       "</table>\n",
       "</div>"
      ],
      "text/plain": [
       "   vitalperiodicid  patientunitstayid  observationoffset  heartrate  \\\n",
       "0         30538137             141233               2936      100.0   \n",
       "1         30537976             141233               2941      100.0   \n",
       "2         29308410             141276                 46       75.0   \n",
       "3         29309085             141276                 26       75.0   \n",
       "4         29308242             141276                 51       73.0   \n",
       "\n",
       "   respiration  temperature  \n",
       "0         24.0         36.6  \n",
       "1         20.0         36.6  \n",
       "2         20.0         35.8  \n",
       "3         20.0         33.7  \n",
       "4         18.0         35.9  "
      ]
     },
     "execution_count": 29,
     "metadata": {},
     "output_type": "execute_result"
    }
   ],
   "source": [
    "df4.head()"
   ]
  },
  {
   "cell_type": "code",
   "execution_count": 30,
   "metadata": {
    "scrolled": true
   },
   "outputs": [
    {
     "data": {
      "text/html": [
       "<div>\n",
       "<style scoped>\n",
       "    .dataframe tbody tr th:only-of-type {\n",
       "        vertical-align: middle;\n",
       "    }\n",
       "\n",
       "    .dataframe tbody tr th {\n",
       "        vertical-align: top;\n",
       "    }\n",
       "\n",
       "    .dataframe thead th {\n",
       "        text-align: right;\n",
       "    }\n",
       "</style>\n",
       "<table border=\"1\" class=\"dataframe\">\n",
       "  <thead>\n",
       "    <tr style=\"text-align: right;\">\n",
       "      <th></th>\n",
       "      <th>vitalperiodicid</th>\n",
       "      <th>patientunitstayid</th>\n",
       "    </tr>\n",
       "  </thead>\n",
       "  <tbody>\n",
       "    <tr>\n",
       "      <th>0</th>\n",
       "      <td>30538137</td>\n",
       "      <td>141233</td>\n",
       "    </tr>\n",
       "    <tr>\n",
       "      <th>1</th>\n",
       "      <td>30537976</td>\n",
       "      <td>141233</td>\n",
       "    </tr>\n",
       "    <tr>\n",
       "      <th>2</th>\n",
       "      <td>29308410</td>\n",
       "      <td>141276</td>\n",
       "    </tr>\n",
       "    <tr>\n",
       "      <th>3</th>\n",
       "      <td>29309085</td>\n",
       "      <td>141276</td>\n",
       "    </tr>\n",
       "    <tr>\n",
       "      <th>4</th>\n",
       "      <td>29308242</td>\n",
       "      <td>141276</td>\n",
       "    </tr>\n",
       "    <tr>\n",
       "      <th>5</th>\n",
       "      <td>29308073</td>\n",
       "      <td>141276</td>\n",
       "    </tr>\n",
       "    <tr>\n",
       "      <th>6</th>\n",
       "      <td>29308918</td>\n",
       "      <td>141276</td>\n",
       "    </tr>\n",
       "    <tr>\n",
       "      <th>7</th>\n",
       "      <td>49444831</td>\n",
       "      <td>141314</td>\n",
       "    </tr>\n",
       "    <tr>\n",
       "      <th>8</th>\n",
       "      <td>49440528</td>\n",
       "      <td>141314</td>\n",
       "    </tr>\n",
       "    <tr>\n",
       "      <th>9</th>\n",
       "      <td>49447183</td>\n",
       "      <td>141314</td>\n",
       "    </tr>\n",
       "    <tr>\n",
       "      <th>10</th>\n",
       "      <td>49440673</td>\n",
       "      <td>141314</td>\n",
       "    </tr>\n",
       "    <tr>\n",
       "      <th>11</th>\n",
       "      <td>49438899</td>\n",
       "      <td>141314</td>\n",
       "    </tr>\n",
       "    <tr>\n",
       "      <th>12</th>\n",
       "      <td>49446008</td>\n",
       "      <td>141314</td>\n",
       "    </tr>\n",
       "    <tr>\n",
       "      <th>13</th>\n",
       "      <td>49440817</td>\n",
       "      <td>141314</td>\n",
       "    </tr>\n",
       "    <tr>\n",
       "      <th>14</th>\n",
       "      <td>49449674</td>\n",
       "      <td>141314</td>\n",
       "    </tr>\n",
       "    <tr>\n",
       "      <th>15</th>\n",
       "      <td>49439195</td>\n",
       "      <td>141314</td>\n",
       "    </tr>\n",
       "    <tr>\n",
       "      <th>16</th>\n",
       "      <td>49446157</td>\n",
       "      <td>141314</td>\n",
       "    </tr>\n",
       "    <tr>\n",
       "      <th>17</th>\n",
       "      <td>49440961</td>\n",
       "      <td>141314</td>\n",
       "    </tr>\n",
       "    <tr>\n",
       "      <th>18</th>\n",
       "      <td>49447337</td>\n",
       "      <td>141314</td>\n",
       "    </tr>\n",
       "    <tr>\n",
       "      <th>19</th>\n",
       "      <td>49444687</td>\n",
       "      <td>141314</td>\n",
       "    </tr>\n",
       "    <tr>\n",
       "      <th>20</th>\n",
       "      <td>49448384</td>\n",
       "      <td>141314</td>\n",
       "    </tr>\n",
       "    <tr>\n",
       "      <th>21</th>\n",
       "      <td>49445859</td>\n",
       "      <td>141314</td>\n",
       "    </tr>\n",
       "    <tr>\n",
       "      <th>22</th>\n",
       "      <td>49439642</td>\n",
       "      <td>141314</td>\n",
       "    </tr>\n",
       "    <tr>\n",
       "      <th>23</th>\n",
       "      <td>49441105</td>\n",
       "      <td>141314</td>\n",
       "    </tr>\n",
       "    <tr>\n",
       "      <th>24</th>\n",
       "      <td>49439046</td>\n",
       "      <td>141314</td>\n",
       "    </tr>\n",
       "    <tr>\n",
       "      <th>25</th>\n",
       "      <td>49444395</td>\n",
       "      <td>141314</td>\n",
       "    </tr>\n",
       "    <tr>\n",
       "      <th>26</th>\n",
       "      <td>49439344</td>\n",
       "      <td>141314</td>\n",
       "    </tr>\n",
       "    <tr>\n",
       "      <th>27</th>\n",
       "      <td>49447032</td>\n",
       "      <td>141314</td>\n",
       "    </tr>\n",
       "    <tr>\n",
       "      <th>28</th>\n",
       "      <td>49439493</td>\n",
       "      <td>141314</td>\n",
       "    </tr>\n",
       "    <tr>\n",
       "      <th>29</th>\n",
       "      <td>49448534</td>\n",
       "      <td>141314</td>\n",
       "    </tr>\n",
       "    <tr>\n",
       "      <th>...</th>\n",
       "      <td>...</td>\n",
       "      <td>...</td>\n",
       "    </tr>\n",
       "    <tr>\n",
       "      <th>49959</th>\n",
       "      <td>34303075</td>\n",
       "      <td>152515</td>\n",
       "    </tr>\n",
       "    <tr>\n",
       "      <th>49960</th>\n",
       "      <td>34281272</td>\n",
       "      <td>152515</td>\n",
       "    </tr>\n",
       "    <tr>\n",
       "      <th>49961</th>\n",
       "      <td>34328839</td>\n",
       "      <td>152515</td>\n",
       "    </tr>\n",
       "    <tr>\n",
       "      <th>49962</th>\n",
       "      <td>34302416</td>\n",
       "      <td>152515</td>\n",
       "    </tr>\n",
       "    <tr>\n",
       "      <th>49963</th>\n",
       "      <td>34280771</td>\n",
       "      <td>152515</td>\n",
       "    </tr>\n",
       "    <tr>\n",
       "      <th>49964</th>\n",
       "      <td>34302581</td>\n",
       "      <td>152515</td>\n",
       "    </tr>\n",
       "    <tr>\n",
       "      <th>49965</th>\n",
       "      <td>34330023</td>\n",
       "      <td>152515</td>\n",
       "    </tr>\n",
       "    <tr>\n",
       "      <th>49966</th>\n",
       "      <td>34282991</td>\n",
       "      <td>152515</td>\n",
       "    </tr>\n",
       "    <tr>\n",
       "      <th>49967</th>\n",
       "      <td>34281950</td>\n",
       "      <td>152515</td>\n",
       "    </tr>\n",
       "    <tr>\n",
       "      <th>49968</th>\n",
       "      <td>34303871</td>\n",
       "      <td>152515</td>\n",
       "    </tr>\n",
       "    <tr>\n",
       "      <th>49969</th>\n",
       "      <td>34329177</td>\n",
       "      <td>152515</td>\n",
       "    </tr>\n",
       "    <tr>\n",
       "      <th>49970</th>\n",
       "      <td>34303240</td>\n",
       "      <td>152515</td>\n",
       "    </tr>\n",
       "    <tr>\n",
       "      <th>49971</th>\n",
       "      <td>34330871</td>\n",
       "      <td>152515</td>\n",
       "    </tr>\n",
       "    <tr>\n",
       "      <th>49972</th>\n",
       "      <td>34304202</td>\n",
       "      <td>152515</td>\n",
       "    </tr>\n",
       "    <tr>\n",
       "      <th>49973</th>\n",
       "      <td>34329008</td>\n",
       "      <td>152515</td>\n",
       "    </tr>\n",
       "    <tr>\n",
       "      <th>49974</th>\n",
       "      <td>34282819</td>\n",
       "      <td>152515</td>\n",
       "    </tr>\n",
       "    <tr>\n",
       "      <th>49975</th>\n",
       "      <td>34303406</td>\n",
       "      <td>152515</td>\n",
       "    </tr>\n",
       "    <tr>\n",
       "      <th>49976</th>\n",
       "      <td>34282470</td>\n",
       "      <td>152515</td>\n",
       "    </tr>\n",
       "    <tr>\n",
       "      <th>49977</th>\n",
       "      <td>34280606</td>\n",
       "      <td>152515</td>\n",
       "    </tr>\n",
       "    <tr>\n",
       "      <th>49978</th>\n",
       "      <td>34280014</td>\n",
       "      <td>152515</td>\n",
       "    </tr>\n",
       "    <tr>\n",
       "      <th>49979</th>\n",
       "      <td>34304534</td>\n",
       "      <td>152515</td>\n",
       "    </tr>\n",
       "    <tr>\n",
       "      <th>49980</th>\n",
       "      <td>34330703</td>\n",
       "      <td>152515</td>\n",
       "    </tr>\n",
       "    <tr>\n",
       "      <th>49981</th>\n",
       "      <td>34329346</td>\n",
       "      <td>152515</td>\n",
       "    </tr>\n",
       "    <tr>\n",
       "      <th>49982</th>\n",
       "      <td>34283868</td>\n",
       "      <td>152515</td>\n",
       "    </tr>\n",
       "    <tr>\n",
       "      <th>49983</th>\n",
       "      <td>34301752</td>\n",
       "      <td>152515</td>\n",
       "    </tr>\n",
       "    <tr>\n",
       "      <th>49984</th>\n",
       "      <td>34281612</td>\n",
       "      <td>152515</td>\n",
       "    </tr>\n",
       "    <tr>\n",
       "      <th>49985</th>\n",
       "      <td>34329853</td>\n",
       "      <td>152515</td>\n",
       "    </tr>\n",
       "    <tr>\n",
       "      <th>49986</th>\n",
       "      <td>34281780</td>\n",
       "      <td>152515</td>\n",
       "    </tr>\n",
       "    <tr>\n",
       "      <th>49987</th>\n",
       "      <td>34331724</td>\n",
       "      <td>152515</td>\n",
       "    </tr>\n",
       "    <tr>\n",
       "      <th>49988</th>\n",
       "      <td>34282645</td>\n",
       "      <td>152515</td>\n",
       "    </tr>\n",
       "  </tbody>\n",
       "</table>\n",
       "<p>49989 rows × 2 columns</p>\n",
       "</div>"
      ],
      "text/plain": [
       "       vitalperiodicid  patientunitstayid\n",
       "0             30538137             141233\n",
       "1             30537976             141233\n",
       "2             29308410             141276\n",
       "3             29309085             141276\n",
       "4             29308242             141276\n",
       "5             29308073             141276\n",
       "6             29308918             141276\n",
       "7             49444831             141314\n",
       "8             49440528             141314\n",
       "9             49447183             141314\n",
       "10            49440673             141314\n",
       "11            49438899             141314\n",
       "12            49446008             141314\n",
       "13            49440817             141314\n",
       "14            49449674             141314\n",
       "15            49439195             141314\n",
       "16            49446157             141314\n",
       "17            49440961             141314\n",
       "18            49447337             141314\n",
       "19            49444687             141314\n",
       "20            49448384             141314\n",
       "21            49445859             141314\n",
       "22            49439642             141314\n",
       "23            49441105             141314\n",
       "24            49439046             141314\n",
       "25            49444395             141314\n",
       "26            49439344             141314\n",
       "27            49447032             141314\n",
       "28            49439493             141314\n",
       "29            49448534             141314\n",
       "...                ...                ...\n",
       "49959         34303075             152515\n",
       "49960         34281272             152515\n",
       "49961         34328839             152515\n",
       "49962         34302416             152515\n",
       "49963         34280771             152515\n",
       "49964         34302581             152515\n",
       "49965         34330023             152515\n",
       "49966         34282991             152515\n",
       "49967         34281950             152515\n",
       "49968         34303871             152515\n",
       "49969         34329177             152515\n",
       "49970         34303240             152515\n",
       "49971         34330871             152515\n",
       "49972         34304202             152515\n",
       "49973         34329008             152515\n",
       "49974         34282819             152515\n",
       "49975         34303406             152515\n",
       "49976         34282470             152515\n",
       "49977         34280606             152515\n",
       "49978         34280014             152515\n",
       "49979         34304534             152515\n",
       "49980         34330703             152515\n",
       "49981         34329346             152515\n",
       "49982         34283868             152515\n",
       "49983         34301752             152515\n",
       "49984         34281612             152515\n",
       "49985         34329853             152515\n",
       "49986         34281780             152515\n",
       "49987         34331724             152515\n",
       "49988         34282645             152515\n",
       "\n",
       "[49989 rows x 2 columns]"
      ]
     },
     "execution_count": 30,
     "metadata": {},
     "output_type": "execute_result"
    }
   ],
   "source": [
    "df4[['vitalperiodicid', 'patientunitstayid']]"
   ]
  },
  {
   "cell_type": "code",
   "execution_count": 31,
   "metadata": {},
   "outputs": [
    {
     "data": {
      "text/plain": [
       "151338    1272\n",
       "151226    1440\n",
       "144986    1449\n",
       "141585    1602\n",
       "144034    1635\n",
       "149810    1715\n",
       "148673    1724\n",
       "144770    1893\n",
       "143101    1895\n",
       "144548    2148\n",
       "Name: patientunitstayid, dtype: int64"
      ]
     },
     "execution_count": 31,
     "metadata": {},
     "output_type": "execute_result"
    }
   ],
   "source": [
    "df4['patientunitstayid'].value_counts().sort_values()[-10:]"
   ]
  },
  {
   "cell_type": "code",
   "execution_count": 32,
   "metadata": {},
   "outputs": [],
   "source": [
    "patientids = df4['patientunitstayid'].value_counts().sort_values()[-10:].index.values.tolist()"
   ]
  },
  {
   "cell_type": "code",
   "execution_count": 33,
   "metadata": {},
   "outputs": [
    {
     "data": {
      "text/plain": [
       "10"
      ]
     },
     "execution_count": 33,
     "metadata": {},
     "output_type": "execute_result"
    }
   ],
   "source": [
    "len(patientids)"
   ]
  },
  {
   "cell_type": "code",
   "execution_count": 34,
   "metadata": {},
   "outputs": [],
   "source": [
    "df5 = df4[df4['patientunitstayid'].isin(patientids)].copy().reset_index(drop=True)"
   ]
  },
  {
   "cell_type": "code",
   "execution_count": 35,
   "metadata": {},
   "outputs": [
    {
     "data": {
      "text/html": [
       "<div>\n",
       "<style scoped>\n",
       "    .dataframe tbody tr th:only-of-type {\n",
       "        vertical-align: middle;\n",
       "    }\n",
       "\n",
       "    .dataframe tbody tr th {\n",
       "        vertical-align: top;\n",
       "    }\n",
       "\n",
       "    .dataframe thead th {\n",
       "        text-align: right;\n",
       "    }\n",
       "</style>\n",
       "<table border=\"1\" class=\"dataframe\">\n",
       "  <thead>\n",
       "    <tr style=\"text-align: right;\">\n",
       "      <th></th>\n",
       "      <th>vitalperiodicid</th>\n",
       "      <th>patientunitstayid</th>\n",
       "      <th>observationoffset</th>\n",
       "      <th>heartrate</th>\n",
       "      <th>respiration</th>\n",
       "      <th>temperature</th>\n",
       "    </tr>\n",
       "  </thead>\n",
       "  <tbody>\n",
       "    <tr>\n",
       "      <th>0</th>\n",
       "      <td>38347065</td>\n",
       "      <td>141585</td>\n",
       "      <td>6035</td>\n",
       "      <td>84.0</td>\n",
       "      <td>24.0</td>\n",
       "      <td>37.4</td>\n",
       "    </tr>\n",
       "    <tr>\n",
       "      <th>1</th>\n",
       "      <td>38206549</td>\n",
       "      <td>141585</td>\n",
       "      <td>9605</td>\n",
       "      <td>80.0</td>\n",
       "      <td>15.0</td>\n",
       "      <td>37.4</td>\n",
       "    </tr>\n",
       "    <tr>\n",
       "      <th>2</th>\n",
       "      <td>38291152</td>\n",
       "      <td>141585</td>\n",
       "      <td>7440</td>\n",
       "      <td>88.0</td>\n",
       "      <td>24.0</td>\n",
       "      <td>37.4</td>\n",
       "    </tr>\n",
       "    <tr>\n",
       "      <th>3</th>\n",
       "      <td>38340543</td>\n",
       "      <td>141585</td>\n",
       "      <td>6210</td>\n",
       "      <td>82.0</td>\n",
       "      <td>23.0</td>\n",
       "      <td>37.4</td>\n",
       "    </tr>\n",
       "    <tr>\n",
       "      <th>4</th>\n",
       "      <td>38375926</td>\n",
       "      <td>141585</td>\n",
       "      <td>5255</td>\n",
       "      <td>96.0</td>\n",
       "      <td>23.0</td>\n",
       "      <td>36.2</td>\n",
       "    </tr>\n",
       "  </tbody>\n",
       "</table>\n",
       "</div>"
      ],
      "text/plain": [
       "   vitalperiodicid  patientunitstayid  observationoffset  heartrate  \\\n",
       "0         38347065             141585               6035       84.0   \n",
       "1         38206549             141585               9605       80.0   \n",
       "2         38291152             141585               7440       88.0   \n",
       "3         38340543             141585               6210       82.0   \n",
       "4         38375926             141585               5255       96.0   \n",
       "\n",
       "   respiration  temperature  \n",
       "0         24.0         37.4  \n",
       "1         15.0         37.4  \n",
       "2         24.0         37.4  \n",
       "3         23.0         37.4  \n",
       "4         23.0         36.2  "
      ]
     },
     "execution_count": 35,
     "metadata": {},
     "output_type": "execute_result"
    }
   ],
   "source": [
    "df5.head()"
   ]
  },
  {
   "cell_type": "code",
   "execution_count": 36,
   "metadata": {},
   "outputs": [],
   "source": [
    "apsdf = pd.read_csv('eicu/eicu-collaborative-research-database-2.0/eicu-collaborative-research-database-2.0/apacheApsVar.csv/apacheApsVar.csv')"
   ]
  },
  {
   "cell_type": "code",
   "execution_count": 37,
   "metadata": {},
   "outputs": [
    {
     "data": {
      "text/html": [
       "<div>\n",
       "<style scoped>\n",
       "    .dataframe tbody tr th:only-of-type {\n",
       "        vertical-align: middle;\n",
       "    }\n",
       "\n",
       "    .dataframe tbody tr th {\n",
       "        vertical-align: top;\n",
       "    }\n",
       "\n",
       "    .dataframe thead th {\n",
       "        text-align: right;\n",
       "    }\n",
       "</style>\n",
       "<table border=\"1\" class=\"dataframe\">\n",
       "  <thead>\n",
       "    <tr style=\"text-align: right;\">\n",
       "      <th></th>\n",
       "      <th>apacheapsvarid</th>\n",
       "      <th>patientunitstayid</th>\n",
       "      <th>intubated</th>\n",
       "      <th>vent</th>\n",
       "      <th>dialysis</th>\n",
       "      <th>eyes</th>\n",
       "      <th>motor</th>\n",
       "      <th>verbal</th>\n",
       "      <th>meds</th>\n",
       "      <th>urine</th>\n",
       "      <th>...</th>\n",
       "      <th>ph</th>\n",
       "      <th>hematocrit</th>\n",
       "      <th>creatinine</th>\n",
       "      <th>albumin</th>\n",
       "      <th>pao2</th>\n",
       "      <th>pco2</th>\n",
       "      <th>bun</th>\n",
       "      <th>glucose</th>\n",
       "      <th>bilirubin</th>\n",
       "      <th>fio2</th>\n",
       "    </tr>\n",
       "  </thead>\n",
       "  <tbody>\n",
       "    <tr>\n",
       "      <th>0</th>\n",
       "      <td>2</td>\n",
       "      <td>141168</td>\n",
       "      <td>0</td>\n",
       "      <td>0</td>\n",
       "      <td>0</td>\n",
       "      <td>4</td>\n",
       "      <td>6</td>\n",
       "      <td>5</td>\n",
       "      <td>0</td>\n",
       "      <td>-1.0</td>\n",
       "      <td>...</td>\n",
       "      <td>-1.00</td>\n",
       "      <td>40.1</td>\n",
       "      <td>2.30</td>\n",
       "      <td>3.1</td>\n",
       "      <td>-1.0</td>\n",
       "      <td>-1.0</td>\n",
       "      <td>27.0</td>\n",
       "      <td>95.0</td>\n",
       "      <td>4.1</td>\n",
       "      <td>-1.0</td>\n",
       "    </tr>\n",
       "    <tr>\n",
       "      <th>1</th>\n",
       "      <td>2399659</td>\n",
       "      <td>141178</td>\n",
       "      <td>0</td>\n",
       "      <td>0</td>\n",
       "      <td>0</td>\n",
       "      <td>-1</td>\n",
       "      <td>-1</td>\n",
       "      <td>-1</td>\n",
       "      <td>-1</td>\n",
       "      <td>-1.0</td>\n",
       "      <td>...</td>\n",
       "      <td>-1.00</td>\n",
       "      <td>-1.0</td>\n",
       "      <td>-1.00</td>\n",
       "      <td>-1.0</td>\n",
       "      <td>-1.0</td>\n",
       "      <td>-1.0</td>\n",
       "      <td>-1.0</td>\n",
       "      <td>-1.0</td>\n",
       "      <td>-1.0</td>\n",
       "      <td>-1.0</td>\n",
       "    </tr>\n",
       "    <tr>\n",
       "      <th>2</th>\n",
       "      <td>167885</td>\n",
       "      <td>141194</td>\n",
       "      <td>0</td>\n",
       "      <td>0</td>\n",
       "      <td>0</td>\n",
       "      <td>3</td>\n",
       "      <td>6</td>\n",
       "      <td>4</td>\n",
       "      <td>0</td>\n",
       "      <td>-1.0</td>\n",
       "      <td>...</td>\n",
       "      <td>-1.00</td>\n",
       "      <td>27.4</td>\n",
       "      <td>2.51</td>\n",
       "      <td>2.3</td>\n",
       "      <td>-1.0</td>\n",
       "      <td>-1.0</td>\n",
       "      <td>31.0</td>\n",
       "      <td>168.0</td>\n",
       "      <td>0.4</td>\n",
       "      <td>-1.0</td>\n",
       "    </tr>\n",
       "    <tr>\n",
       "      <th>3</th>\n",
       "      <td>70691</td>\n",
       "      <td>141197</td>\n",
       "      <td>0</td>\n",
       "      <td>0</td>\n",
       "      <td>0</td>\n",
       "      <td>4</td>\n",
       "      <td>6</td>\n",
       "      <td>5</td>\n",
       "      <td>0</td>\n",
       "      <td>-1.0</td>\n",
       "      <td>...</td>\n",
       "      <td>-1.00</td>\n",
       "      <td>-1.0</td>\n",
       "      <td>-1.00</td>\n",
       "      <td>-1.0</td>\n",
       "      <td>-1.0</td>\n",
       "      <td>-1.0</td>\n",
       "      <td>-1.0</td>\n",
       "      <td>-1.0</td>\n",
       "      <td>-1.0</td>\n",
       "      <td>-1.0</td>\n",
       "    </tr>\n",
       "    <tr>\n",
       "      <th>4</th>\n",
       "      <td>2279689</td>\n",
       "      <td>141203</td>\n",
       "      <td>0</td>\n",
       "      <td>1</td>\n",
       "      <td>0</td>\n",
       "      <td>1</td>\n",
       "      <td>3</td>\n",
       "      <td>1</td>\n",
       "      <td>0</td>\n",
       "      <td>-1.0</td>\n",
       "      <td>...</td>\n",
       "      <td>7.45</td>\n",
       "      <td>36.9</td>\n",
       "      <td>0.56</td>\n",
       "      <td>-1.0</td>\n",
       "      <td>51.0</td>\n",
       "      <td>37.0</td>\n",
       "      <td>9.0</td>\n",
       "      <td>145.0</td>\n",
       "      <td>-1.0</td>\n",
       "      <td>100.0</td>\n",
       "    </tr>\n",
       "  </tbody>\n",
       "</table>\n",
       "<p>5 rows × 26 columns</p>\n",
       "</div>"
      ],
      "text/plain": [
       "   apacheapsvarid  patientunitstayid  intubated  vent  dialysis  eyes  motor  \\\n",
       "0               2             141168          0     0         0     4      6   \n",
       "1         2399659             141178          0     0         0    -1     -1   \n",
       "2          167885             141194          0     0         0     3      6   \n",
       "3           70691             141197          0     0         0     4      6   \n",
       "4         2279689             141203          0     1         0     1      3   \n",
       "\n",
       "   verbal  meds  urine  ...      ph  hematocrit  creatinine  albumin  pao2  \\\n",
       "0       5     0   -1.0  ...   -1.00        40.1        2.30      3.1  -1.0   \n",
       "1      -1    -1   -1.0  ...   -1.00        -1.0       -1.00     -1.0  -1.0   \n",
       "2       4     0   -1.0  ...   -1.00        27.4        2.51      2.3  -1.0   \n",
       "3       5     0   -1.0  ...   -1.00        -1.0       -1.00     -1.0  -1.0   \n",
       "4       1     0   -1.0  ...    7.45        36.9        0.56     -1.0  51.0   \n",
       "\n",
       "   pco2   bun  glucose  bilirubin   fio2  \n",
       "0  -1.0  27.0     95.0        4.1   -1.0  \n",
       "1  -1.0  -1.0     -1.0       -1.0   -1.0  \n",
       "2  -1.0  31.0    168.0        0.4   -1.0  \n",
       "3  -1.0  -1.0     -1.0       -1.0   -1.0  \n",
       "4  37.0   9.0    145.0       -1.0  100.0  \n",
       "\n",
       "[5 rows x 26 columns]"
      ]
     },
     "execution_count": 37,
     "metadata": {},
     "output_type": "execute_result"
    }
   ],
   "source": [
    "apsdf.head()"
   ]
  },
  {
   "cell_type": "code",
   "execution_count": 38,
   "metadata": {},
   "outputs": [
    {
     "data": {
      "text/plain": [
       "Index(['apacheapsvarid', 'patientunitstayid', 'intubated', 'vent', 'dialysis',\n",
       "       'eyes', 'motor', 'verbal', 'meds', 'urine', 'wbc', 'temperature',\n",
       "       'respiratoryrate', 'sodium', 'heartrate', 'meanbp', 'ph', 'hematocrit',\n",
       "       'creatinine', 'albumin', 'pao2', 'pco2', 'bun', 'glucose', 'bilirubin',\n",
       "       'fio2'],\n",
       "      dtype='object')"
      ]
     },
     "execution_count": 38,
     "metadata": {},
     "output_type": "execute_result"
    }
   ],
   "source": [
    "apsdf.columns"
   ]
  },
  {
   "cell_type": "code",
   "execution_count": 39,
   "metadata": {},
   "outputs": [],
   "source": [
    "apsdf2 = apsdf.copy()[['patientunitstayid', 'wbc']]"
   ]
  },
  {
   "cell_type": "code",
   "execution_count": 40,
   "metadata": {},
   "outputs": [],
   "source": [
    "apsdf3 = apsdf2[apsdf2['patientunitstayid'].isin(patientids)].copy().reset_index(drop=True)"
   ]
  },
  {
   "cell_type": "code",
   "execution_count": 41,
   "metadata": {},
   "outputs": [
    {
     "data": {
      "text/html": [
       "<div>\n",
       "<style scoped>\n",
       "    .dataframe tbody tr th:only-of-type {\n",
       "        vertical-align: middle;\n",
       "    }\n",
       "\n",
       "    .dataframe tbody tr th {\n",
       "        vertical-align: top;\n",
       "    }\n",
       "\n",
       "    .dataframe thead th {\n",
       "        text-align: right;\n",
       "    }\n",
       "</style>\n",
       "<table border=\"1\" class=\"dataframe\">\n",
       "  <thead>\n",
       "    <tr style=\"text-align: right;\">\n",
       "      <th></th>\n",
       "      <th>patientunitstayid</th>\n",
       "      <th>wbc</th>\n",
       "    </tr>\n",
       "  </thead>\n",
       "  <tbody>\n",
       "    <tr>\n",
       "      <th>0</th>\n",
       "      <td>141585</td>\n",
       "      <td>13.8</td>\n",
       "    </tr>\n",
       "    <tr>\n",
       "      <th>1</th>\n",
       "      <td>143101</td>\n",
       "      <td>11.5</td>\n",
       "    </tr>\n",
       "    <tr>\n",
       "      <th>2</th>\n",
       "      <td>144034</td>\n",
       "      <td>22.9</td>\n",
       "    </tr>\n",
       "    <tr>\n",
       "      <th>3</th>\n",
       "      <td>144548</td>\n",
       "      <td>26.1</td>\n",
       "    </tr>\n",
       "    <tr>\n",
       "      <th>4</th>\n",
       "      <td>144770</td>\n",
       "      <td>12.9</td>\n",
       "    </tr>\n",
       "    <tr>\n",
       "      <th>5</th>\n",
       "      <td>144986</td>\n",
       "      <td>16.6</td>\n",
       "    </tr>\n",
       "    <tr>\n",
       "      <th>6</th>\n",
       "      <td>148673</td>\n",
       "      <td>17.5</td>\n",
       "    </tr>\n",
       "    <tr>\n",
       "      <th>7</th>\n",
       "      <td>149810</td>\n",
       "      <td>9.9</td>\n",
       "    </tr>\n",
       "    <tr>\n",
       "      <th>8</th>\n",
       "      <td>151226</td>\n",
       "      <td>4.1</td>\n",
       "    </tr>\n",
       "    <tr>\n",
       "      <th>9</th>\n",
       "      <td>151338</td>\n",
       "      <td>29.2</td>\n",
       "    </tr>\n",
       "  </tbody>\n",
       "</table>\n",
       "</div>"
      ],
      "text/plain": [
       "   patientunitstayid   wbc\n",
       "0             141585  13.8\n",
       "1             143101  11.5\n",
       "2             144034  22.9\n",
       "3             144548  26.1\n",
       "4             144770  12.9\n",
       "5             144986  16.6\n",
       "6             148673  17.5\n",
       "7             149810   9.9\n",
       "8             151226   4.1\n",
       "9             151338  29.2"
      ]
     },
     "execution_count": 41,
     "metadata": {},
     "output_type": "execute_result"
    }
   ],
   "source": [
    "apsdf3"
   ]
  },
  {
   "cell_type": "code",
   "execution_count": 42,
   "metadata": {},
   "outputs": [],
   "source": [
    "finaldf = pd.merge(df5, apsdf3, on='patientunitstayid').copy()"
   ]
  },
  {
   "cell_type": "code",
   "execution_count": 43,
   "metadata": {
    "scrolled": true
   },
   "outputs": [
    {
     "data": {
      "text/html": [
       "<div>\n",
       "<style scoped>\n",
       "    .dataframe tbody tr th:only-of-type {\n",
       "        vertical-align: middle;\n",
       "    }\n",
       "\n",
       "    .dataframe tbody tr th {\n",
       "        vertical-align: top;\n",
       "    }\n",
       "\n",
       "    .dataframe thead th {\n",
       "        text-align: right;\n",
       "    }\n",
       "</style>\n",
       "<table border=\"1\" class=\"dataframe\">\n",
       "  <thead>\n",
       "    <tr style=\"text-align: right;\">\n",
       "      <th></th>\n",
       "      <th>vitalperiodicid</th>\n",
       "      <th>patientunitstayid</th>\n",
       "      <th>observationoffset</th>\n",
       "      <th>heartrate</th>\n",
       "      <th>respiration</th>\n",
       "      <th>temperature</th>\n",
       "      <th>wbc</th>\n",
       "    </tr>\n",
       "  </thead>\n",
       "  <tbody>\n",
       "    <tr>\n",
       "      <th>0</th>\n",
       "      <td>38347065</td>\n",
       "      <td>141585</td>\n",
       "      <td>6035</td>\n",
       "      <td>84.0</td>\n",
       "      <td>24.0</td>\n",
       "      <td>37.4</td>\n",
       "      <td>13.8</td>\n",
       "    </tr>\n",
       "    <tr>\n",
       "      <th>1</th>\n",
       "      <td>38206549</td>\n",
       "      <td>141585</td>\n",
       "      <td>9605</td>\n",
       "      <td>80.0</td>\n",
       "      <td>15.0</td>\n",
       "      <td>37.4</td>\n",
       "      <td>13.8</td>\n",
       "    </tr>\n",
       "    <tr>\n",
       "      <th>2</th>\n",
       "      <td>38291152</td>\n",
       "      <td>141585</td>\n",
       "      <td>7440</td>\n",
       "      <td>88.0</td>\n",
       "      <td>24.0</td>\n",
       "      <td>37.4</td>\n",
       "      <td>13.8</td>\n",
       "    </tr>\n",
       "    <tr>\n",
       "      <th>3</th>\n",
       "      <td>38340543</td>\n",
       "      <td>141585</td>\n",
       "      <td>6210</td>\n",
       "      <td>82.0</td>\n",
       "      <td>23.0</td>\n",
       "      <td>37.4</td>\n",
       "      <td>13.8</td>\n",
       "    </tr>\n",
       "    <tr>\n",
       "      <th>4</th>\n",
       "      <td>38375926</td>\n",
       "      <td>141585</td>\n",
       "      <td>5255</td>\n",
       "      <td>96.0</td>\n",
       "      <td>23.0</td>\n",
       "      <td>36.2</td>\n",
       "      <td>13.8</td>\n",
       "    </tr>\n",
       "  </tbody>\n",
       "</table>\n",
       "</div>"
      ],
      "text/plain": [
       "   vitalperiodicid  patientunitstayid  observationoffset  heartrate  \\\n",
       "0         38347065             141585               6035       84.0   \n",
       "1         38206549             141585               9605       80.0   \n",
       "2         38291152             141585               7440       88.0   \n",
       "3         38340543             141585               6210       82.0   \n",
       "4         38375926             141585               5255       96.0   \n",
       "\n",
       "   respiration  temperature   wbc  \n",
       "0         24.0         37.4  13.8  \n",
       "1         15.0         37.4  13.8  \n",
       "2         24.0         37.4  13.8  \n",
       "3         23.0         37.4  13.8  \n",
       "4         23.0         36.2  13.8  "
      ]
     },
     "execution_count": 43,
     "metadata": {},
     "output_type": "execute_result"
    }
   ],
   "source": [
    "finaldf.head()"
   ]
  },
  {
   "cell_type": "code",
   "execution_count": 77,
   "metadata": {},
   "outputs": [],
   "source": [
    "finaldf.to_csv('finaldf.csv', index=False)"
   ]
  },
  {
   "cell_type": "markdown",
   "metadata": {},
   "source": [
    "# Predictions"
   ]
  },
  {
   "cell_type": "code",
   "execution_count": 45,
   "metadata": {},
   "outputs": [
    {
     "data": {
      "text/plain": [
       "array([2.79978258e-01, 1.46467263e-01, 7.11621913e-02, 8.10878779e-04,\n",
       "       5.97815322e-06])"
      ]
     },
     "execution_count": 45,
     "metadata": {},
     "output_type": "execute_result"
    }
   ],
   "source": [
    "from statsmodels.tsa.vector_ar.vecm import coint_johansen\n",
    "johan_test_temp = finaldf.drop(['vitalperiodicid', 'patientunitstayid'], axis=1)\n",
    "coint_johansen(johan_test_temp,-1,1).eig"
   ]
  },
  {
   "cell_type": "code",
   "execution_count": 46,
   "metadata": {},
   "outputs": [],
   "source": [
    "trialdf = finaldf[finaldf['patientunitstayid'] == patientids[-1]].copy().sort_values(by='observationoffset').reset_index(drop=True)"
   ]
  },
  {
   "cell_type": "code",
   "execution_count": 47,
   "metadata": {},
   "outputs": [
    {
     "data": {
      "text/html": [
       "<div>\n",
       "<style scoped>\n",
       "    .dataframe tbody tr th:only-of-type {\n",
       "        vertical-align: middle;\n",
       "    }\n",
       "\n",
       "    .dataframe tbody tr th {\n",
       "        vertical-align: top;\n",
       "    }\n",
       "\n",
       "    .dataframe thead th {\n",
       "        text-align: right;\n",
       "    }\n",
       "</style>\n",
       "<table border=\"1\" class=\"dataframe\">\n",
       "  <thead>\n",
       "    <tr style=\"text-align: right;\">\n",
       "      <th></th>\n",
       "      <th>vitalperiodicid</th>\n",
       "      <th>patientunitstayid</th>\n",
       "      <th>observationoffset</th>\n",
       "      <th>heartrate</th>\n",
       "      <th>respiration</th>\n",
       "      <th>temperature</th>\n",
       "      <th>wbc</th>\n",
       "    </tr>\n",
       "  </thead>\n",
       "  <tbody>\n",
       "    <tr>\n",
       "      <th>0</th>\n",
       "      <td>27693892</td>\n",
       "      <td>144548</td>\n",
       "      <td>47</td>\n",
       "      <td>100.0</td>\n",
       "      <td>16.0</td>\n",
       "      <td>36.9</td>\n",
       "      <td>26.1</td>\n",
       "    </tr>\n",
       "    <tr>\n",
       "      <th>1</th>\n",
       "      <td>27693715</td>\n",
       "      <td>144548</td>\n",
       "      <td>52</td>\n",
       "      <td>101.0</td>\n",
       "      <td>18.0</td>\n",
       "      <td>37.0</td>\n",
       "      <td>26.1</td>\n",
       "    </tr>\n",
       "    <tr>\n",
       "      <th>2</th>\n",
       "      <td>27693538</td>\n",
       "      <td>144548</td>\n",
       "      <td>57</td>\n",
       "      <td>101.0</td>\n",
       "      <td>16.0</td>\n",
       "      <td>37.1</td>\n",
       "      <td>26.1</td>\n",
       "    </tr>\n",
       "    <tr>\n",
       "      <th>3</th>\n",
       "      <td>27693360</td>\n",
       "      <td>144548</td>\n",
       "      <td>62</td>\n",
       "      <td>101.0</td>\n",
       "      <td>17.0</td>\n",
       "      <td>37.1</td>\n",
       "      <td>26.1</td>\n",
       "    </tr>\n",
       "    <tr>\n",
       "      <th>4</th>\n",
       "      <td>27693182</td>\n",
       "      <td>144548</td>\n",
       "      <td>67</td>\n",
       "      <td>101.0</td>\n",
       "      <td>16.0</td>\n",
       "      <td>37.2</td>\n",
       "      <td>26.1</td>\n",
       "    </tr>\n",
       "  </tbody>\n",
       "</table>\n",
       "</div>"
      ],
      "text/plain": [
       "   vitalperiodicid  patientunitstayid  observationoffset  heartrate  \\\n",
       "0         27693892             144548                 47      100.0   \n",
       "1         27693715             144548                 52      101.0   \n",
       "2         27693538             144548                 57      101.0   \n",
       "3         27693360             144548                 62      101.0   \n",
       "4         27693182             144548                 67      101.0   \n",
       "\n",
       "   respiration  temperature   wbc  \n",
       "0         16.0         36.9  26.1  \n",
       "1         18.0         37.0  26.1  \n",
       "2         16.0         37.1  26.1  \n",
       "3         17.0         37.1  26.1  \n",
       "4         16.0         37.2  26.1  "
      ]
     },
     "execution_count": 47,
     "metadata": {},
     "output_type": "execute_result"
    }
   ],
   "source": [
    "trialdf.head()"
   ]
  },
  {
   "cell_type": "code",
   "execution_count": 48,
   "metadata": {},
   "outputs": [
    {
     "data": {
      "text/plain": [
       "(2148, 7)"
      ]
     },
     "execution_count": 48,
     "metadata": {},
     "output_type": "execute_result"
    }
   ],
   "source": [
    "trialdf.shape"
   ]
  },
  {
   "cell_type": "code",
   "execution_count": 49,
   "metadata": {},
   "outputs": [],
   "source": [
    "newvitalsid = []\n",
    "for i in trialdf['observationoffset']:\n",
    "    newvitalsid.append(i - trialdf['observationoffset'].tolist()[0])\n",
    "    \n",
    "trialdf['observationoffset'] = pd.Series(newvitalsid)"
   ]
  },
  {
   "cell_type": "code",
   "execution_count": 50,
   "metadata": {},
   "outputs": [
    {
     "data": {
      "text/html": [
       "<div>\n",
       "<style scoped>\n",
       "    .dataframe tbody tr th:only-of-type {\n",
       "        vertical-align: middle;\n",
       "    }\n",
       "\n",
       "    .dataframe tbody tr th {\n",
       "        vertical-align: top;\n",
       "    }\n",
       "\n",
       "    .dataframe thead th {\n",
       "        text-align: right;\n",
       "    }\n",
       "</style>\n",
       "<table border=\"1\" class=\"dataframe\">\n",
       "  <thead>\n",
       "    <tr style=\"text-align: right;\">\n",
       "      <th></th>\n",
       "      <th>vitalperiodicid</th>\n",
       "      <th>patientunitstayid</th>\n",
       "      <th>observationoffset</th>\n",
       "      <th>heartrate</th>\n",
       "      <th>respiration</th>\n",
       "      <th>temperature</th>\n",
       "      <th>wbc</th>\n",
       "    </tr>\n",
       "  </thead>\n",
       "  <tbody>\n",
       "    <tr>\n",
       "      <th>0</th>\n",
       "      <td>27693892</td>\n",
       "      <td>144548</td>\n",
       "      <td>0</td>\n",
       "      <td>100.0</td>\n",
       "      <td>16.0</td>\n",
       "      <td>36.9</td>\n",
       "      <td>26.1</td>\n",
       "    </tr>\n",
       "    <tr>\n",
       "      <th>1</th>\n",
       "      <td>27693715</td>\n",
       "      <td>144548</td>\n",
       "      <td>5</td>\n",
       "      <td>101.0</td>\n",
       "      <td>18.0</td>\n",
       "      <td>37.0</td>\n",
       "      <td>26.1</td>\n",
       "    </tr>\n",
       "    <tr>\n",
       "      <th>2</th>\n",
       "      <td>27693538</td>\n",
       "      <td>144548</td>\n",
       "      <td>10</td>\n",
       "      <td>101.0</td>\n",
       "      <td>16.0</td>\n",
       "      <td>37.1</td>\n",
       "      <td>26.1</td>\n",
       "    </tr>\n",
       "    <tr>\n",
       "      <th>3</th>\n",
       "      <td>27693360</td>\n",
       "      <td>144548</td>\n",
       "      <td>15</td>\n",
       "      <td>101.0</td>\n",
       "      <td>17.0</td>\n",
       "      <td>37.1</td>\n",
       "      <td>26.1</td>\n",
       "    </tr>\n",
       "    <tr>\n",
       "      <th>4</th>\n",
       "      <td>27693182</td>\n",
       "      <td>144548</td>\n",
       "      <td>20</td>\n",
       "      <td>101.0</td>\n",
       "      <td>16.0</td>\n",
       "      <td>37.2</td>\n",
       "      <td>26.1</td>\n",
       "    </tr>\n",
       "  </tbody>\n",
       "</table>\n",
       "</div>"
      ],
      "text/plain": [
       "   vitalperiodicid  patientunitstayid  observationoffset  heartrate  \\\n",
       "0         27693892             144548                  0      100.0   \n",
       "1         27693715             144548                  5      101.0   \n",
       "2         27693538             144548                 10      101.0   \n",
       "3         27693360             144548                 15      101.0   \n",
       "4         27693182             144548                 20      101.0   \n",
       "\n",
       "   respiration  temperature   wbc  \n",
       "0         16.0         36.9  26.1  \n",
       "1         18.0         37.0  26.1  \n",
       "2         16.0         37.1  26.1  \n",
       "3         17.0         37.1  26.1  \n",
       "4         16.0         37.2  26.1  "
      ]
     },
     "execution_count": 50,
     "metadata": {},
     "output_type": "execute_result"
    }
   ],
   "source": [
    "trialdf.head()"
   ]
  },
  {
   "cell_type": "code",
   "execution_count": 51,
   "metadata": {},
   "outputs": [
    {
     "data": {
      "text/plain": [
       "vitalperiodicid        int64\n",
       "patientunitstayid      int64\n",
       "observationoffset      int64\n",
       "heartrate            float64\n",
       "respiration          float64\n",
       "temperature          float64\n",
       "wbc                  float64\n",
       "dtype: object"
      ]
     },
     "execution_count": 51,
     "metadata": {},
     "output_type": "execute_result"
    }
   ],
   "source": [
    "trialdf.dtypes"
   ]
  },
  {
   "cell_type": "code",
   "execution_count": 52,
   "metadata": {},
   "outputs": [],
   "source": [
    "trialdf2 = trialdf.drop(['vitalperiodicid', 'patientunitstayid'], axis=1).copy()"
   ]
  },
  {
   "cell_type": "code",
   "execution_count": 53,
   "metadata": {},
   "outputs": [],
   "source": [
    "trialdf2.set_index('observationoffset', drop=True, inplace=True)"
   ]
  },
  {
   "cell_type": "code",
   "execution_count": 54,
   "metadata": {},
   "outputs": [
    {
     "data": {
      "text/html": [
       "<div>\n",
       "<style scoped>\n",
       "    .dataframe tbody tr th:only-of-type {\n",
       "        vertical-align: middle;\n",
       "    }\n",
       "\n",
       "    .dataframe tbody tr th {\n",
       "        vertical-align: top;\n",
       "    }\n",
       "\n",
       "    .dataframe thead th {\n",
       "        text-align: right;\n",
       "    }\n",
       "</style>\n",
       "<table border=\"1\" class=\"dataframe\">\n",
       "  <thead>\n",
       "    <tr style=\"text-align: right;\">\n",
       "      <th></th>\n",
       "      <th>heartrate</th>\n",
       "      <th>respiration</th>\n",
       "      <th>temperature</th>\n",
       "      <th>wbc</th>\n",
       "    </tr>\n",
       "    <tr>\n",
       "      <th>observationoffset</th>\n",
       "      <th></th>\n",
       "      <th></th>\n",
       "      <th></th>\n",
       "      <th></th>\n",
       "    </tr>\n",
       "  </thead>\n",
       "  <tbody>\n",
       "    <tr>\n",
       "      <th>0</th>\n",
       "      <td>100.0</td>\n",
       "      <td>16.0</td>\n",
       "      <td>36.9</td>\n",
       "      <td>26.1</td>\n",
       "    </tr>\n",
       "    <tr>\n",
       "      <th>5</th>\n",
       "      <td>101.0</td>\n",
       "      <td>18.0</td>\n",
       "      <td>37.0</td>\n",
       "      <td>26.1</td>\n",
       "    </tr>\n",
       "    <tr>\n",
       "      <th>10</th>\n",
       "      <td>101.0</td>\n",
       "      <td>16.0</td>\n",
       "      <td>37.1</td>\n",
       "      <td>26.1</td>\n",
       "    </tr>\n",
       "    <tr>\n",
       "      <th>15</th>\n",
       "      <td>101.0</td>\n",
       "      <td>17.0</td>\n",
       "      <td>37.1</td>\n",
       "      <td>26.1</td>\n",
       "    </tr>\n",
       "    <tr>\n",
       "      <th>20</th>\n",
       "      <td>101.0</td>\n",
       "      <td>16.0</td>\n",
       "      <td>37.2</td>\n",
       "      <td>26.1</td>\n",
       "    </tr>\n",
       "  </tbody>\n",
       "</table>\n",
       "</div>"
      ],
      "text/plain": [
       "                   heartrate  respiration  temperature   wbc\n",
       "observationoffset                                           \n",
       "0                      100.0         16.0         36.9  26.1\n",
       "5                      101.0         18.0         37.0  26.1\n",
       "10                     101.0         16.0         37.1  26.1\n",
       "15                     101.0         17.0         37.1  26.1\n",
       "20                     101.0         16.0         37.2  26.1"
      ]
     },
     "execution_count": 54,
     "metadata": {},
     "output_type": "execute_result"
    }
   ],
   "source": [
    "trialdf2.head()"
   ]
  },
  {
   "cell_type": "code",
   "execution_count": 55,
   "metadata": {},
   "outputs": [],
   "source": [
    "train = trialdf2.drop(['wbc'], axis=1)[:int(0.8*(len(trialdf2)))]\n",
    "valid = trialdf2.drop(['wbc'], axis=1)[int(0.8*(len(trialdf2))):]"
   ]
  },
  {
   "cell_type": "code",
   "execution_count": 56,
   "metadata": {},
   "outputs": [],
   "source": [
    "from statsmodels.tsa.vector_ar.var_model import VAR"
   ]
  },
  {
   "cell_type": "code",
   "execution_count": 57,
   "metadata": {},
   "outputs": [
    {
     "name": "stderr",
     "output_type": "stream",
     "text": [
      "E:\\Anaconda3\\lib\\site-packages\\statsmodels\\tsa\\base\\tsa_model.py:221: ValueWarning: An unsupported index was provided and will be ignored when e.g. forecasting.\n",
      "  ' ignored when e.g. forecasting.', ValueWarning)\n"
     ]
    }
   ],
   "source": [
    "model = VAR(endog=train)\n",
    "model_fit = model.fit()"
   ]
  },
  {
   "cell_type": "code",
   "execution_count": 58,
   "metadata": {},
   "outputs": [],
   "source": [
    "prediction = model_fit.forecast(model_fit.y, steps=len(valid))"
   ]
  },
  {
   "cell_type": "code",
   "execution_count": 59,
   "metadata": {},
   "outputs": [
    {
     "data": {
      "text/plain": [
       "Index(['heartrate', 'respiration', 'temperature', 'wbc'], dtype='object')"
      ]
     },
     "execution_count": 59,
     "metadata": {},
     "output_type": "execute_result"
    }
   ],
   "source": [
    "trialdf2.columns"
   ]
  },
  {
   "cell_type": "code",
   "execution_count": 60,
   "metadata": {},
   "outputs": [],
   "source": [
    "#converting predictions to dataframe\n",
    "pred = pd.DataFrame(index=range(0, len(prediction)), columns=['heartrate', 'respiration', 'temperature'])\n",
    "for j in range(0, 3):\n",
    "    for i in range(0, len(prediction)):\n",
    "        pred.iloc[i][j] = prediction[i][j]"
   ]
  },
  {
   "cell_type": "code",
   "execution_count": 61,
   "metadata": {},
   "outputs": [],
   "source": [
    "import math\n",
    "from sklearn.metrics import mean_squared_error"
   ]
  },
  {
   "cell_type": "code",
   "execution_count": 62,
   "metadata": {},
   "outputs": [
    {
     "name": "stdout",
     "output_type": "stream",
     "text": [
      "rmse value for heartrate is :  13.120730960270071\n",
      "rmse value for respiration is :  8.569022911351922\n",
      "rmse value for temperature is :  3.063878509792215\n"
     ]
    }
   ],
   "source": [
    "#check rmse\n",
    "for i in ['heartrate', 'respiration', 'temperature']:\n",
    "    print('rmse value for', i, 'is : ', math.sqrt(mean_squared_error(pred[i], valid[i])))"
   ]
  },
  {
   "cell_type": "code",
   "execution_count": 63,
   "metadata": {},
   "outputs": [
    {
     "name": "stdout",
     "output_type": "stream",
     "text": [
      "[[87.33014215 15.09745944 36.41822749]]\n"
     ]
    },
    {
     "name": "stderr",
     "output_type": "stream",
     "text": [
      "E:\\Anaconda3\\lib\\site-packages\\statsmodels\\tsa\\base\\tsa_model.py:221: ValueWarning: An unsupported index was provided and will be ignored when e.g. forecasting.\n",
      "  ' ignored when e.g. forecasting.', ValueWarning)\n"
     ]
    }
   ],
   "source": [
    "#make final predictions\n",
    "model = VAR(endog=train)\n",
    "model_fit = model.fit()\n",
    "yhat = model_fit.forecast(model_fit.y, steps=1)\n",
    "print(yhat)"
   ]
  },
  {
   "cell_type": "code",
   "execution_count": 64,
   "metadata": {},
   "outputs": [],
   "source": [
    "model_fit.save('models/VAR_predict.pickle')"
   ]
  },
  {
   "cell_type": "code",
   "execution_count": 65,
   "metadata": {},
   "outputs": [],
   "source": [
    "from statsmodels.iolib.smpickle import load_pickle"
   ]
  },
  {
   "cell_type": "code",
   "execution_count": 66,
   "metadata": {},
   "outputs": [],
   "source": [
    "new_model = load_pickle(\"models/VAR_predict.pickle\")"
   ]
  },
  {
   "cell_type": "code",
   "execution_count": 67,
   "metadata": {},
   "outputs": [
    {
     "data": {
      "text/plain": [
       "array([[87.33014215, 15.09745944, 36.41822749]])"
      ]
     },
     "execution_count": 67,
     "metadata": {},
     "output_type": "execute_result"
    }
   ],
   "source": [
    "new_model.forecast(new_model.y, steps=1)"
   ]
  },
  {
   "cell_type": "code",
   "execution_count": 71,
   "metadata": {},
   "outputs": [
    {
     "data": {
      "text/plain": [
       "Int64Index([    0,     5,    10,    15,    20,    25,    30,    35,    40,\n",
       "               45,\n",
       "            ...\n",
       "            12810, 12815, 12820, 12825, 12830, 12835, 12840, 12845, 12850,\n",
       "            12855],\n",
       "           dtype='int64', name='observationoffset', length=2148)"
      ]
     },
     "execution_count": 71,
     "metadata": {},
     "output_type": "execute_result"
    }
   ],
   "source": [
    "trialdf2.index"
   ]
  },
  {
   "cell_type": "code",
   "execution_count": 73,
   "metadata": {},
   "outputs": [
    {
     "data": {
      "text/html": [
       "<div>\n",
       "<style scoped>\n",
       "    .dataframe tbody tr th:only-of-type {\n",
       "        vertical-align: middle;\n",
       "    }\n",
       "\n",
       "    .dataframe tbody tr th {\n",
       "        vertical-align: top;\n",
       "    }\n",
       "\n",
       "    .dataframe thead th {\n",
       "        text-align: right;\n",
       "    }\n",
       "</style>\n",
       "<table border=\"1\" class=\"dataframe\">\n",
       "  <thead>\n",
       "    <tr style=\"text-align: right;\">\n",
       "      <th></th>\n",
       "      <th>vitalperiodicid</th>\n",
       "      <th>patientunitstayid</th>\n",
       "      <th>observationoffset</th>\n",
       "      <th>heartrate</th>\n",
       "      <th>respiration</th>\n",
       "      <th>temperature</th>\n",
       "      <th>wbc</th>\n",
       "    </tr>\n",
       "  </thead>\n",
       "  <tbody>\n",
       "    <tr>\n",
       "      <th>0</th>\n",
       "      <td>38347065</td>\n",
       "      <td>141585</td>\n",
       "      <td>6035</td>\n",
       "      <td>84.0</td>\n",
       "      <td>24.0</td>\n",
       "      <td>37.4</td>\n",
       "      <td>13.8</td>\n",
       "    </tr>\n",
       "    <tr>\n",
       "      <th>1</th>\n",
       "      <td>38206549</td>\n",
       "      <td>141585</td>\n",
       "      <td>9605</td>\n",
       "      <td>80.0</td>\n",
       "      <td>15.0</td>\n",
       "      <td>37.4</td>\n",
       "      <td>13.8</td>\n",
       "    </tr>\n",
       "    <tr>\n",
       "      <th>2</th>\n",
       "      <td>38291152</td>\n",
       "      <td>141585</td>\n",
       "      <td>7440</td>\n",
       "      <td>88.0</td>\n",
       "      <td>24.0</td>\n",
       "      <td>37.4</td>\n",
       "      <td>13.8</td>\n",
       "    </tr>\n",
       "    <tr>\n",
       "      <th>3</th>\n",
       "      <td>38340543</td>\n",
       "      <td>141585</td>\n",
       "      <td>6210</td>\n",
       "      <td>82.0</td>\n",
       "      <td>23.0</td>\n",
       "      <td>37.4</td>\n",
       "      <td>13.8</td>\n",
       "    </tr>\n",
       "    <tr>\n",
       "      <th>4</th>\n",
       "      <td>38375926</td>\n",
       "      <td>141585</td>\n",
       "      <td>5255</td>\n",
       "      <td>96.0</td>\n",
       "      <td>23.0</td>\n",
       "      <td>36.2</td>\n",
       "      <td>13.8</td>\n",
       "    </tr>\n",
       "  </tbody>\n",
       "</table>\n",
       "</div>"
      ],
      "text/plain": [
       "   vitalperiodicid  patientunitstayid  observationoffset  heartrate  \\\n",
       "0         38347065             141585               6035       84.0   \n",
       "1         38206549             141585               9605       80.0   \n",
       "2         38291152             141585               7440       88.0   \n",
       "3         38340543             141585               6210       82.0   \n",
       "4         38375926             141585               5255       96.0   \n",
       "\n",
       "   respiration  temperature   wbc  \n",
       "0         24.0         37.4  13.8  \n",
       "1         15.0         37.4  13.8  \n",
       "2         24.0         37.4  13.8  \n",
       "3         23.0         37.4  13.8  \n",
       "4         23.0         36.2  13.8  "
      ]
     },
     "execution_count": 73,
     "metadata": {},
     "output_type": "execute_result"
    }
   ],
   "source": [
    "finaldf.head()"
   ]
  },
  {
   "cell_type": "code",
   "execution_count": 75,
   "metadata": {},
   "outputs": [
    {
     "data": {
      "text/plain": [
       "array([141585, 143101, 144034, 144548, 144770, 144986, 148673, 149810,\n",
       "       151226, 151338], dtype=int64)"
      ]
     },
     "execution_count": 75,
     "metadata": {},
     "output_type": "execute_result"
    }
   ],
   "source": [
    "finaldf['patientunitstayid'].unique()"
   ]
  },
  {
   "cell_type": "code",
   "execution_count": 76,
   "metadata": {},
   "outputs": [
    {
     "data": {
      "text/plain": [
       "array([13.8, 11.5, 22.9, 26.1, 12.9, 16.6, 17.5,  9.9,  4.1, 29.2])"
      ]
     },
     "execution_count": 76,
     "metadata": {},
     "output_type": "execute_result"
    }
   ],
   "source": [
    "finaldf['wbc'].unique()"
   ]
  },
  {
   "cell_type": "code",
   "execution_count": 281,
   "metadata": {},
   "outputs": [],
   "source": [
    "def predict(patientId=None):\n",
    "    # read csv\n",
    "    finaldf = pd.read_csv('finaldf.csv')\n",
    "    finaldf.drop(['vitalperiodicid'], axis=1, inplace=True)\n",
    "\n",
    "    # setup variables\n",
    "    patIds = finaldf['patientunitstayid'].unique()\n",
    "    wbcVals = finaldf['wbc'].unique()\n",
    "\n",
    "    if not patientId:\n",
    "        rno = np.random.randint(0, 10, size=1)[0]\n",
    "        patientId = patIds[rno]\n",
    "\n",
    "    # get patient dataframe\n",
    "    finaldf = finaldf[finaldf['patientunitstayid'] == patientId].copy().sort_values(by='observationoffset').reset_index(drop=True)\n",
    "\n",
    "    newvitalsid = []\n",
    "    for i in finaldf['observationoffset']:\n",
    "        newvitalsid.append(i - finaldf['observationoffset'].tolist()[0])\n",
    "\n",
    "    finaldf['observationoffset'] = pd.Series(newvitalsid)\n",
    "    finaldf.drop(['patientunitstayid'], axis=1, inplace=True)\n",
    "\n",
    "    finaldf.set_index('observationoffset', drop=True, inplace=True)\n",
    "    train = finaldf.drop(['wbc'], axis=1)[:int(0.8*(len(finaldf)))]\n",
    "\n",
    "    model = VAR(endog=train)\n",
    "    model_fit = model.fit()\n",
    "\n",
    "    prediction = model_fit.forecast(model_fit.y, steps=48)\n",
    "    preds = prediction\n",
    "    prediction = pd.concat([pd.DataFrame(prediction, columns=['heartrate', 'respiration', 'temperature']),\n",
    "                           pd.DataFrame([wbcVals[rno]]*48, columns=['wbc'])], axis=1)\n",
    "\n",
    "    new_ind = list(range(train.index[-1], train.index[-1] + 240, 5))\n",
    "    prediction = pd.concat([prediction, pd.DataFrame(new_ind, columns=['new_ind'])], axis=1)\n",
    "    prediction = prediction.set_index(['new_ind']).copy()\n",
    "\n",
    "    crits = []\n",
    "    for i in preds:\n",
    "        count = 0\n",
    "        if i[2] > 38 or i[2] < 36:\n",
    "            count += 1\n",
    "        if i[0] > 90:\n",
    "            count += 1\n",
    "        if i[1] > 20:\n",
    "            count += 1\n",
    "\n",
    "        if count > 1:\n",
    "            crits.append(i)\n",
    "\n",
    "        crits = pd.DataFrame(crits, columns=['heartrate', 'respiration', 'temperature'])\n",
    "\n",
    "    \n",
    "    return dict({'predictions': prediction,\n",
    "                 'critical': crits,\n",
    "                 'actual': finaldf})"
   ]
  },
  {
   "cell_type": "code",
   "execution_count": 282,
   "metadata": {
    "scrolled": true
   },
   "outputs": [
    {
     "name": "stdout",
     "output_type": "stream",
     "text": [
      "         heartrate  respiration  temperature   wbc\n",
      "new_ind                                           \n",
      "8525     66.990020     3.412881    36.220304  12.9\n",
      "8530     66.981849     6.048792    36.240324  12.9\n",
      "8535     66.976014     8.085120    36.259955  12.9\n",
      "8540     66.972875     9.658733    36.279121  12.9\n",
      "8545     66.972661    10.875245    36.297773  12.9\n",
      "8550     66.975507    11.816145    36.315878  12.9\n",
      "8555     66.981474    12.544314    36.333418  12.9\n",
      "8560     66.990567    13.108276    36.350386  12.9\n",
      "8565     67.002755    13.545469    36.366780  12.9\n",
      "8570     67.017975    13.884786    36.382606  12.9\n",
      "8575     67.036144    14.148523    36.397875  12.9\n",
      "8580     67.057165    14.353884    36.412599  12.9\n",
      "8585     67.080930    14.514148    36.426792  12.9\n",
      "8590     67.107328    14.639561    36.440471  12.9\n",
      "8595     67.136242    14.738032    36.453652  12.9\n",
      "8600     67.167555    14.815667    36.466354  12.9\n",
      "8605     67.201150    14.877176    36.478593  12.9\n",
      "8610     67.236912    14.926197    36.490386  12.9\n",
      "8615     67.274727    14.965540    36.501753  12.9\n",
      "8620     67.314487    14.997373    36.512708  12.9\n",
      "8625     67.356084    15.023371    36.523269  12.9\n",
      "8630     67.399415    15.044828    36.533451  12.9\n",
      "8635     67.444380    15.062745    36.543271  12.9\n",
      "8640     67.490885    15.077895    36.552743  12.9\n",
      "8645     67.538837    15.090874    36.561881  12.9\n",
      "8650     67.588148    15.102148    36.570701  12.9\n",
      "8655     67.638734    15.112072    36.579214  12.9\n",
      "8660     67.690514    15.120926    36.587433  12.9\n",
      "8665     67.743411    15.128924    36.595372  12.9\n",
      "8670     67.797351    15.136234    36.603041  12.9\n",
      "8675     67.852264    15.142986    36.610453  12.9\n",
      "8680     67.908083    15.149282    36.617617  12.9\n",
      "8685     67.964744    15.155201    36.624544  12.9\n",
      "8690     68.022185    15.160805    36.631245  12.9\n",
      "8695     68.080348    15.166142    36.637728  12.9\n",
      "8700     68.139178    15.171252    36.644002  12.9\n",
      "8705     68.198622    15.176165    36.650077  12.9\n",
      "8710     68.258628    15.180905    36.655961  12.9\n",
      "8715     68.319150    15.185492    36.661661  12.9\n",
      "8720     68.380142    15.189942    36.667185  12.9\n",
      "8725     68.441559    15.194267    36.672541  12.9\n",
      "8730     68.503360    15.198479    36.677734  12.9\n",
      "8735     68.565506    15.202585    36.682773  12.9\n",
      "8740     68.627960    15.206594    36.687663  12.9\n",
      "8745     68.690684    15.210512    36.692410  12.9\n",
      "8750     68.753647    15.214343    36.697021  12.9\n",
      "8755     68.816814    15.218094    36.701500  12.9\n",
      "8760     68.880156    15.221768    36.705853  12.9\n"
     ]
    },
    {
     "name": "stderr",
     "output_type": "stream",
     "text": [
      "E:\\Anaconda3\\lib\\site-packages\\statsmodels\\tsa\\base\\tsa_model.py:221: ValueWarning: An unsupported index was provided and will be ignored when e.g. forecasting.\n",
      "  ' ignored when e.g. forecasting.', ValueWarning)\n"
     ]
    }
   ],
   "source": [
    "preds = predict()"
   ]
  },
  {
   "cell_type": "code",
   "execution_count": 186,
   "metadata": {
    "scrolled": true
   },
   "outputs": [
    {
     "data": {
      "text/plain": [
       "Index(['vitalperiodicid', 'patientunitstayid', 'observationoffset',\n",
       "       'heartrate', 'respiration', 'temperature', 'wbc'],\n",
       "      dtype='object')"
      ]
     },
     "execution_count": 186,
     "metadata": {},
     "output_type": "execute_result"
    }
   ],
   "source": [
    "df = pd.read_csv('finaldf.csv')\n",
    "df.head()\n",
    "df.columns"
   ]
  },
  {
   "cell_type": "code",
   "execution_count": 187,
   "metadata": {
    "scrolled": false
   },
   "outputs": [],
   "source": [
    "df = pd.concat([pd.DataFrame(a, columns=['heartrate', 'respiration', 'temperature']), \n",
    "          pd.DataFrame([13.8]*48, columns=['wbc'])], axis=1)"
   ]
  },
  {
   "cell_type": "code",
   "execution_count": 188,
   "metadata": {},
   "outputs": [
    {
     "data": {
      "text/plain": [
       "-1.243003378493844"
      ]
     },
     "execution_count": 188,
     "metadata": {},
     "output_type": "execute_result"
    }
   ],
   "source": [
    "np.random.randn()"
   ]
  },
  {
   "cell_type": "code",
   "execution_count": 189,
   "metadata": {},
   "outputs": [
    {
     "data": {
      "text/html": [
       "<div>\n",
       "<style scoped>\n",
       "    .dataframe tbody tr th:only-of-type {\n",
       "        vertical-align: middle;\n",
       "    }\n",
       "\n",
       "    .dataframe tbody tr th {\n",
       "        vertical-align: top;\n",
       "    }\n",
       "\n",
       "    .dataframe thead th {\n",
       "        text-align: right;\n",
       "    }\n",
       "</style>\n",
       "<table border=\"1\" class=\"dataframe\">\n",
       "  <thead>\n",
       "    <tr style=\"text-align: right;\">\n",
       "      <th></th>\n",
       "      <th>heartrate</th>\n",
       "      <th>respiration</th>\n",
       "      <th>temperature</th>\n",
       "      <th>wbc</th>\n",
       "    </tr>\n",
       "  </thead>\n",
       "  <tbody>\n",
       "    <tr>\n",
       "      <th>0</th>\n",
       "      <td>84.144019</td>\n",
       "      <td>33.350483</td>\n",
       "      <td>37.508511</td>\n",
       "      <td>13.8</td>\n",
       "    </tr>\n",
       "    <tr>\n",
       "      <th>1</th>\n",
       "      <td>84.314097</td>\n",
       "      <td>31.960361</td>\n",
       "      <td>37.515590</td>\n",
       "      <td>13.8</td>\n",
       "    </tr>\n",
       "    <tr>\n",
       "      <th>2</th>\n",
       "      <td>84.502683</td>\n",
       "      <td>30.787183</td>\n",
       "      <td>37.521479</td>\n",
       "      <td>13.8</td>\n",
       "    </tr>\n",
       "    <tr>\n",
       "      <th>3</th>\n",
       "      <td>84.703693</td>\n",
       "      <td>29.795558</td>\n",
       "      <td>37.526380</td>\n",
       "      <td>13.8</td>\n",
       "    </tr>\n",
       "    <tr>\n",
       "      <th>4</th>\n",
       "      <td>84.912254</td>\n",
       "      <td>28.955973</td>\n",
       "      <td>37.530460</td>\n",
       "      <td>13.8</td>\n",
       "    </tr>\n",
       "  </tbody>\n",
       "</table>\n",
       "</div>"
      ],
      "text/plain": [
       "   heartrate  respiration  temperature   wbc\n",
       "0  84.144019    33.350483    37.508511  13.8\n",
       "1  84.314097    31.960361    37.515590  13.8\n",
       "2  84.502683    30.787183    37.521479  13.8\n",
       "3  84.703693    29.795558    37.526380  13.8\n",
       "4  84.912254    28.955973    37.530460  13.8"
      ]
     },
     "execution_count": 189,
     "metadata": {},
     "output_type": "execute_result"
    }
   ],
   "source": [
    "df.head()"
   ]
  },
  {
   "cell_type": "code",
   "execution_count": 190,
   "metadata": {
    "scrolled": true
   },
   "outputs": [
    {
     "data": {
      "text/plain": [
       "array([[84.14401871, 33.35048332, 37.50851128],\n",
       "       [84.31409697, 31.9603614 , 37.51559   ],\n",
       "       [84.50268271, 30.78718331, 37.52147888],\n",
       "       [84.70369284, 29.79555804, 37.52637971],\n",
       "       [84.91225387, 28.95597304, 37.53046027],\n",
       "       [85.12448682, 28.24381103, 37.53386002],\n",
       "       [85.33732913, 27.63853159, 37.5366949 ],\n",
       "       [85.54838707, 27.12299006, 37.53906125],\n",
       "       [85.75581367, 26.68287055, 37.54103913],\n",
       "       [85.95820771, 26.30621404, 37.54269508],\n",
       "       [86.15453034, 25.98302547, 37.54408434],\n",
       "       [86.34403616, 25.7049467 , 37.54525283],\n",
       "       [86.52621643, 25.46498418, 37.54623865],\n",
       "       [86.70075227, 25.25728224, 37.54707343],\n",
       "       [86.86747619, 25.07693427, 37.54778344],\n",
       "       [87.02634048, 24.91982549, 37.54839045],\n",
       "       [87.17739131, 24.78250197, 37.54891253],\n",
       "       [87.32074753, 24.66206156, 37.54936466],\n",
       "       [87.45658337, 24.55606298, 37.54975924],\n",
       "       [87.58511444, 24.46245008, 37.55010655],\n",
       "       [87.70658623, 24.37948876, 37.55041509],\n",
       "       [87.82126501, 24.3057143 , 37.5506919 ],\n",
       "       [87.92943034, 24.23988753, 37.55094278],\n",
       "       [88.03136925, 24.18095821, 37.55117255],\n",
       "       [88.1273715 , 24.12803453, 37.55138514],\n",
       "       [88.21772592, 24.08035761, 37.55158383],\n",
       "       [88.30271755, 24.03728027, 37.55177129],\n",
       "       [88.38262546, 23.99824922, 37.55194974],\n",
       "       [88.4577211 , 23.96279027, 37.55212097],\n",
       "       [88.5282671 , 23.93049587, 37.55228646],\n",
       "       [88.59451645, 23.90101477, 37.55244742],\n",
       "       [88.6567119 , 23.87404333, 37.55260484],\n",
       "       [88.7150857 , 23.84931823, 37.5527595 ],\n",
       "       [88.7698594 , 23.82661036, 37.55291205],\n",
       "       [88.8212439 , 23.80571976, 37.55306301],\n",
       "       [88.86943952, 23.78647123, 37.55321279],\n",
       "       [88.91463625, 23.7687108 , 37.55336172],\n",
       "       [88.95701401, 23.75230265, 37.55351006],\n",
       "       [88.99674292, 23.73712655, 37.55365801],\n",
       "       [89.0339837 , 23.7230757 , 37.55380572],\n",
       "       [89.06888803, 23.71005491, 37.55395332],\n",
       "       [89.10159891, 23.69797903, 37.55410088],\n",
       "       [89.13225109, 23.68677166, 37.55424848],\n",
       "       [89.16097146, 23.67636401, 37.55439614],\n",
       "       [89.18787939, 23.66669397, 37.5545439 ],\n",
       "       [89.21308717, 23.6577053 , 37.55469176],\n",
       "       [89.23670039, 23.64934689, 37.55483973],\n",
       "       [89.25881825, 23.64157223, 37.5549878 ]])"
      ]
     },
     "execution_count": 190,
     "metadata": {},
     "output_type": "execute_result"
    }
   ],
   "source": [
    "preds"
   ]
  },
  {
   "cell_type": "code",
   "execution_count": 195,
   "metadata": {},
   "outputs": [],
   "source": [
    "crits = []\n",
    "for i in preds:\n",
    "    count = 0\n",
    "    if i[2] > 38 or i[2] < 36:\n",
    "        count += 1\n",
    "    if i[0] > 90:\n",
    "        count += 1\n",
    "    if i[1] > 20:\n",
    "        count += 1\n",
    "        \n",
    "    if count > 1:\n",
    "        crits.append(i)"
   ]
  },
  {
   "cell_type": "code",
   "execution_count": 196,
   "metadata": {},
   "outputs": [
    {
     "data": {
      "text/plain": [
       "[]"
      ]
     },
     "execution_count": 196,
     "metadata": {},
     "output_type": "execute_result"
    }
   ],
   "source": [
    "crits"
   ]
  },
  {
   "cell_type": "code",
   "execution_count": 197,
   "metadata": {},
   "outputs": [
    {
     "data": {
      "text/html": [
       "<div>\n",
       "<style scoped>\n",
       "    .dataframe tbody tr th:only-of-type {\n",
       "        vertical-align: middle;\n",
       "    }\n",
       "\n",
       "    .dataframe tbody tr th {\n",
       "        vertical-align: top;\n",
       "    }\n",
       "\n",
       "    .dataframe thead th {\n",
       "        text-align: right;\n",
       "    }\n",
       "</style>\n",
       "<table border=\"1\" class=\"dataframe\">\n",
       "  <thead>\n",
       "    <tr style=\"text-align: right;\">\n",
       "      <th></th>\n",
       "      <th>heartrate</th>\n",
       "      <th>respiration</th>\n",
       "      <th>temperature</th>\n",
       "    </tr>\n",
       "  </thead>\n",
       "  <tbody>\n",
       "  </tbody>\n",
       "</table>\n",
       "</div>"
      ],
      "text/plain": [
       "Empty DataFrame\n",
       "Columns: [heartrate, respiration, temperature]\n",
       "Index: []"
      ]
     },
     "execution_count": 197,
     "metadata": {},
     "output_type": "execute_result"
    }
   ],
   "source": [
    "pd.DataFrame(crits, columns=['heartrate', 'respiration', 'temperature'])"
   ]
  },
  {
   "cell_type": "code",
   "execution_count": 252,
   "metadata": {},
   "outputs": [
    {
     "ename": "AttributeError",
     "evalue": "'tuple' object has no attribute 'flat'",
     "output_type": "error",
     "traceback": [
      "\u001b[1;31m---------------------------------------------------------------------------\u001b[0m",
      "\u001b[1;31mAttributeError\u001b[0m                            Traceback (most recent call last)",
      "\u001b[1;32m<ipython-input-252-8f7a776e6df4>\u001b[0m in \u001b[0;36m<module>\u001b[1;34m()\u001b[0m\n\u001b[1;32m----> 1\u001b[1;33m \u001b[0mnp\u001b[0m\u001b[1;33m.\u001b[0m\u001b[0marange\u001b[0m\u001b[1;33m(\u001b[0m\u001b[0mtrain\u001b[0m\u001b[1;33m.\u001b[0m\u001b[0mindex\u001b[0m\u001b[1;33m[\u001b[0m\u001b[1;33m-\u001b[0m\u001b[1;36m1\u001b[0m\u001b[1;33m]\u001b[0m\u001b[1;33m,\u001b[0m \u001b[0mtrain\u001b[0m\u001b[1;33m.\u001b[0m\u001b[0mindex\u001b[0m\u001b[1;33m[\u001b[0m\u001b[1;33m-\u001b[0m\u001b[1;36m1\u001b[0m\u001b[1;33m]\u001b[0m \u001b[1;33m+\u001b[0m \u001b[1;36m240\u001b[0m\u001b[1;33m,\u001b[0m \u001b[1;36m5\u001b[0m\u001b[1;33m)\u001b[0m\u001b[1;33m,\u001b[0m \u001b[1;33m(\u001b[0m\u001b[1;36m1\u001b[0m\u001b[1;33m,\u001b[0m\u001b[1;36m0\u001b[0m\u001b[1;33m)\u001b[0m\u001b[1;33m.\u001b[0m\u001b[0mflat\u001b[0m\u001b[1;33m\u001b[0m\u001b[0m\n\u001b[0m",
      "\u001b[1;31mAttributeError\u001b[0m: 'tuple' object has no attribute 'flat'"
     ]
    }
   ],
   "source": [
    "np.arange(train.index[-1], train.index[-1] + 240, 5), (1,0).flat"
   ]
  },
  {
   "cell_type": "code",
   "execution_count": 245,
   "metadata": {},
   "outputs": [
    {
     "data": {
      "text/html": [
       "<div>\n",
       "<style scoped>\n",
       "    .dataframe tbody tr th:only-of-type {\n",
       "        vertical-align: middle;\n",
       "    }\n",
       "\n",
       "    .dataframe tbody tr th {\n",
       "        vertical-align: top;\n",
       "    }\n",
       "\n",
       "    .dataframe thead th {\n",
       "        text-align: right;\n",
       "    }\n",
       "</style>\n",
       "<table border=\"1\" class=\"dataframe\">\n",
       "  <thead>\n",
       "    <tr style=\"text-align: right;\">\n",
       "      <th></th>\n",
       "      <th>heartrate</th>\n",
       "      <th>respiration</th>\n",
       "      <th>temperature</th>\n",
       "      <th>wbc</th>\n",
       "    </tr>\n",
       "  </thead>\n",
       "  <tbody>\n",
       "    <tr>\n",
       "      <th>0</th>\n",
       "      <td>84.144019</td>\n",
       "      <td>33.350483</td>\n",
       "      <td>37.508511</td>\n",
       "      <td>13.8</td>\n",
       "    </tr>\n",
       "    <tr>\n",
       "      <th>1</th>\n",
       "      <td>84.314097</td>\n",
       "      <td>31.960361</td>\n",
       "      <td>37.515590</td>\n",
       "      <td>13.8</td>\n",
       "    </tr>\n",
       "    <tr>\n",
       "      <th>2</th>\n",
       "      <td>84.502683</td>\n",
       "      <td>30.787183</td>\n",
       "      <td>37.521479</td>\n",
       "      <td>13.8</td>\n",
       "    </tr>\n",
       "    <tr>\n",
       "      <th>3</th>\n",
       "      <td>84.703693</td>\n",
       "      <td>29.795558</td>\n",
       "      <td>37.526380</td>\n",
       "      <td>13.8</td>\n",
       "    </tr>\n",
       "    <tr>\n",
       "      <th>4</th>\n",
       "      <td>84.912254</td>\n",
       "      <td>28.955973</td>\n",
       "      <td>37.530460</td>\n",
       "      <td>13.8</td>\n",
       "    </tr>\n",
       "  </tbody>\n",
       "</table>\n",
       "</div>"
      ],
      "text/plain": [
       "   heartrate  respiration  temperature   wbc\n",
       "0  84.144019    33.350483    37.508511  13.8\n",
       "1  84.314097    31.960361    37.515590  13.8\n",
       "2  84.502683    30.787183    37.521479  13.8\n",
       "3  84.703693    29.795558    37.526380  13.8\n",
       "4  84.912254    28.955973    37.530460  13.8"
      ]
     },
     "execution_count": 245,
     "metadata": {},
     "output_type": "execute_result"
    }
   ],
   "source": [
    "df.head()"
   ]
  },
  {
   "cell_type": "code",
   "execution_count": 246,
   "metadata": {},
   "outputs": [],
   "source": [
    "df.set_index('heartrate', drop=True, inplace=True)"
   ]
  },
  {
   "cell_type": "code",
   "execution_count": 255,
   "metadata": {},
   "outputs": [],
   "source": [
    "a = range(0, 10, 5)"
   ]
  },
  {
   "cell_type": "code",
   "execution_count": 259,
   "metadata": {},
   "outputs": [
    {
     "data": {
      "text/plain": [
       "[0, 5]"
      ]
     },
     "execution_count": 259,
     "metadata": {},
     "output_type": "execute_result"
    }
   ],
   "source": [
    "list(a)"
   ]
  },
  {
   "cell_type": "code",
   "execution_count": 257,
   "metadata": {},
   "outputs": [
    {
     "name": "stdout",
     "output_type": "stream",
     "text": [
      "range(0, 10, 5)\n"
     ]
    }
   ],
   "source": [
    "print(a)"
   ]
  },
  {
   "cell_type": "code",
   "execution_count": 258,
   "metadata": {},
   "outputs": [
    {
     "data": {
      "text/plain": [
       "5"
      ]
     },
     "execution_count": 258,
     "metadata": {},
     "output_type": "execute_result"
    }
   ],
   "source": [
    "a[1]"
   ]
  },
  {
   "cell_type": "code",
   "execution_count": null,
   "metadata": {},
   "outputs": [],
   "source": []
  }
 ],
 "metadata": {
  "kernelspec": {
   "display_name": "Python 3",
   "language": "python",
   "name": "python3"
  },
  "language_info": {
   "codemirror_mode": {
    "name": "ipython",
    "version": 3
   },
   "file_extension": ".py",
   "mimetype": "text/x-python",
   "name": "python",
   "nbconvert_exporter": "python",
   "pygments_lexer": "ipython3",
   "version": "3.6.5"
  }
 },
 "nbformat": 4,
 "nbformat_minor": 2
}
